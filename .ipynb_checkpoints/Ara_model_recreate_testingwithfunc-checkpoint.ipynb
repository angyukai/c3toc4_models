{
 "cells": [
  {
   "cell_type": "code",
   "execution_count": 1,
   "metadata": {
    "collapsed": false
   },
   "outputs": [],
   "source": [
    "import scobra\n",
    "from cobra import Metabolite\n",
    "m = scobra.Model('AraLightDarkCore_ScrumPy.xls')"
   ]
  },
  {
   "cell_type": "markdown",
   "metadata": {},
   "source": [
    "### zero flux constraints (except for photon_light)"
   ]
  },
  {
   "cell_type": "code",
   "execution_count": null,
   "metadata": {
    "collapsed": false
   },
   "outputs": [],
   "source": [
    "#constraint list\n",
    "\n",
    "constraints_list = {'Photon_Light_tx':(0,None),\n",
    "                   'Photon_Dark_tx':(0,0),\n",
    "                   'GLC_Dark_tx':(0,0),\n",
    "                   'GLC_Light_tx':(0,0),\n",
    "                   'Sucrose_Dark_tx':(0,0),\n",
    "                   'Sucrose_Light_tx':(0,0),\n",
    "                   'TAG_Dark_tx':(0,0),\n",
    "                   'TAG_Light_tx':(0,0),\n",
    "                   'Starch_Dark_tx':(0,0),\n",
    "                   'Starch_Light_tx':(0,0),\n",
    "                   'NADPH_Dehydrogenase_Dark_p':(0,0),\n",
    "                   'NADPH_Dehydrogenase_Light_p':(0,0),\n",
    "                   'NADPHoxx_Light_tx':(0,0),\n",
    "                    'NADPHoxx_Dark_tx':(0,0),\n",
    "                    'Plastoquinol_Oxidase_Dark_p':(0,0),\n",
    "                    'Plastoquinol_Oxidase_Light_p':(0,0),\n",
    "                    'NH4_Light_tx':(0,0),\n",
    "                    'NH4_Dark_tx':(0,0)\n",
    "                   }\n",
    "\n",
    "lightdic = {'Alanine_Light_biomass':-9.7,'Arginine_Light_biomass':-1.6,'Asparagine_Light_biomass':-10.1,'Aspartate_Light_biomass':-9.5,\n",
    "'Glutamate_Light_biomass':-11.4,'Glutamine_Light_biomass':-33.2,'Glycine_Light_biomass':-0.7,'Serine_Light_biomass':-7.7,\n",
    "'Tyrosine_Light_biomass':-0.6,'Histidine_Light_biomass':-0.4,'Isoleucine_Light_biomass':-1.2,'Leucine_Light_biomass':-1.2,\n",
    "'Lysine_Light_biomass':-1.8,'Methionine_Light_biomass':-0.7,'Phenylalanine_Light_biomass':-1.1,'Threonine_Light_biomass':-5.6,\n",
    "'Tryptophan_Light_biomass':-0.9,'Valine_Light_biomass':-2.4}\n",
    "\n",
    "darkdic = {'Alanine_Dark_biomass':-9.7,'Arginine_Dark_biomass':-1.6,'Asparagine_Dark_biomass':-10.1,'Aspartate_Dark_biomass':-9.5,\n",
    "'Glutamate_Dark_biomass':-11.4,'Glutamine_Dark_biomass':-33.2,'Glycine_Dark_biomass':-0.7,'Serine_Dark_biomass':-7.7,\n",
    "'Tyrosine_Dark_biomass':-0.6,'Histidine_Dark_biomass':-0.4,'Isoleucine_Dark_biomass':-1.2,'Leucine_Dark_biomass':-1.2,\n",
    "'Lysine_Dark_biomass':-1.8,'Methionine_Dark_biomass':-0.7,'Phenylalanine_Dark_biomass':-1.1,'Threonine_Dark_biomass':-5.6,\n",
    "'Tryptophan_Dark_biomass':-0.9,'Valine_Dark_biomass':-2.4}\n",
    "\n",
    "\n",
    "m.SetConstraints(constraints_list)\n",
    "\n"
   ]
  },
  {
   "cell_type": "markdown",
   "metadata": {},
   "source": [
    "### Setting all biomass to 0 except for sucrose and amino acids"
   ]
  },
  {
   "cell_type": "code",
   "execution_count": null,
   "metadata": {
    "collapsed": false
   },
   "outputs": [],
   "source": [
    "\n",
    "\n",
    "def notInList(element, alist):\n",
    "    for i in alist:\n",
    "        if element == i:\n",
    "            return False\n",
    "    return True\n",
    "\n",
    "exclude_list = []\n",
    "\n",
    "for i in lightdic.keys():\n",
    "    exclude_list.append(i)\n",
    "\n",
    "for i in darkdic.keys():\n",
    "    exclude_list.append(i)\n",
    "\n",
    "exclude_list.append('Sucrose_Light_biomass')\n",
    "exclude_list.append('Sucrose_Dark_biomass')\n",
    "\n",
    "list_b = m.Reactions('_biomass')\n",
    "\n",
    "for i in list_b:\n",
    "    check = notInList(i, exclude_list)\n",
    "    if check:\n",
    "        m.SetConstraint(i,0,0)\n",
    "\n"
   ]
  },
  {
   "cell_type": "markdown",
   "metadata": {
    "collapsed": true
   },
   "source": [
    "### Setting photorespiration/carboxylation and NO3 ratios"
   ]
  },
  {
   "cell_type": "code",
   "execution_count": null,
   "metadata": {
    "collapsed": false
   },
   "outputs": [],
   "source": [
    "m.SetReacsFixedRatio({\"RXN-961_Dark_p\":1, \"RIBULOSE-BISPHOSPHATE-CARBOXYLASE-RXN_Dark_p\":3})\n",
    "m.SetReacsFixedRatio({\"RXN-961_Light_p\":1, \"RIBULOSE-BISPHOSPHATE-CARBOXYLASE-RXN_Light_p\":3})\n",
    "m.SetReacsFixedRatio({\"NO3_Light_tx\":3, 'NO3_Dark_tx':2})\n"
   ]
  },
  {
   "cell_type": "markdown",
   "metadata": {},
   "source": [
    "### Trying to hard code amino acid requirements"
   ]
  },
  {
   "cell_type": "code",
   "execution_count": null,
   "metadata": {
    "collapsed": false
   },
   "outputs": [],
   "source": [
    "sucrose_light = 0.515625\n",
    "sucrose_dark = sucrose_light/3\n",
    "aaSucrose_ratio = 2.2\n",
    "\n",
    "\n",
    "#takes into consideration day/night, aa/sucrose, aa percentage ratios.\n",
    "\n",
    "for reac in lightdic:\n",
    "    aa_ratio = lightdic[reac]\n",
    "    m.SetConstraints({reac:((sucrose_light/aaSucrose_ratio)*aa_ratio/100,\n",
    "                            (sucrose_light/aaSucrose_ratio)*aa_ratio/100)})\n",
    "\n",
    "for reac in darkdic:\n",
    "    ratio = darkdic[reac]\n",
    "    m.SetConstraints({reac:((sucrose_dark/aaSucrose_ratio)*aa_ratio/100,\n",
    "                            (sucrose_dark/aaSucrose_ratio)*aa_ratio/100)})\n",
    "\n",
    "\n"
   ]
  },
  {
   "cell_type": "code",
   "execution_count": null,
   "metadata": {
    "collapsed": false
   },
   "outputs": [],
   "source": [
    "0.515625/3"
   ]
  },
  {
   "cell_type": "markdown",
   "metadata": {},
   "source": [
    "### ATP and NADPH ratios"
   ]
  },
  {
   "cell_type": "code",
   "execution_count": null,
   "metadata": {
    "collapsed": false
   },
   "outputs": [],
   "source": [
    "# Setting ratios for NADPH and ATPase \"The ratio of ATP maintenance cost:NADPH maintenance cost was as- sumed to be 3:1 \"\n",
    "#  'NADPHoxx' should be 0\n",
    "\n",
    "#Set ATP and NADPH rxn to be None to 0. \n",
    "ATP_constraints = ['NADPHoxc', 'NADPHoxm', 'NADPHoxp']\n",
    "\n",
    "for reac in ATP_constraints:\n",
    "    nadph_d = reac+'_Light_tx'\n",
    "    nadph_n = reac+'_Dark_tx'\n",
    "    \n",
    "    m.SetReacsFixedRatio({nadph_d:1,'ATPase_Light_tx':9})\n",
    "    m.SetReacsFixedRatio({nadph_n:1,'ATPase_Dark_tx':9})"
   ]
  },
  {
   "cell_type": "markdown",
   "metadata": {},
   "source": [
    "### Setting outflux constraints"
   ]
  },
  {
   "cell_type": "code",
   "execution_count": null,
   "metadata": {
    "collapsed": false
   },
   "outputs": [],
   "source": [
    "# m.SetReacsFixedRatio({\"Sucrose_Light_biomass\":3, 'Sucrose_Dark_biomass':1})\n",
    "m.SetConstraints({'Sucrose_Light_biomass':(-sucrose_light,-sucrose_light)})\n",
    "m.SetConstraints({'Sucrose_Dark_biomass':(-sucrose_dark,-sucrose_dark)})\n",
    "m.SetConstraints({'ATPase_Light_tx':(-7.5,-7.5)})\n",
    "m.SetConstraints({'ATPase_Dark_tx':(-7.5,-7.5)})\n",
    "\n",
    "\n",
    "\n",
    "#ATP maintenance should go in the direction that consumes ATP\n"
   ]
  },
  {
   "cell_type": "markdown",
   "metadata": {},
   "source": [
    "### Setting Objectives"
   ]
  },
  {
   "cell_type": "code",
   "execution_count": null,
   "metadata": {
    "collapsed": false
   },
   "outputs": [],
   "source": [
    "#e.g. minimizing photon \n",
    "m.SetObjDirec('Min')\n",
    "# m.SetObjective('Photon_Light_tx')\n",
    "m.MinFluxSolve()\n"
   ]
  },
  {
   "cell_type": "code",
   "execution_count": null,
   "metadata": {
    "collapsed": false,
    "scrolled": false
   },
   "outputs": [],
   "source": [
    "m.PrintSol('CO2_Light_tx')\n",
    "m.PrintSol('CO2_Dark_tx')\n",
    "m.PrintSol('NO3_Light_tx')\n",
    "m.PrintSol('NO3_Dark_tx')\n",
    "m.PrintSol('SO4_Dark_tx')\n",
    "m.PrintSol('SO4_Light_tx')\n",
    "m.PrintSol('Starch_LightDark')\n",
    "m.PrintSol('Nitrate_LightDark')\n",
    "m.PrintSol('Phloem_Loading_Dark_c')\n",
    "m.PrintSol('Phloem_Loading_Light_c')\n",
    "print '\\n'\n",
    "m.PrintSol()\n",
    "\n",
    "#to access the numbers use m.GetSol() = gives you a dictionary with the rxn name and flux values."
   ]
  },
  {
   "cell_type": "markdown",
   "metadata": {},
   "source": []
  },
  {
   "cell_type": "markdown",
   "metadata": {
    "collapsed": false
   },
   "source": [
    "### Duplicating model into 2 mesophylls"
   ]
  },
  {
   "cell_type": "code",
   "execution_count": null,
   "metadata": {
    "collapsed": false
   },
   "outputs": [],
   "source": [
    "list_d = ['_M1','_M2']\n"
   ]
  },
  {
   "cell_type": "code",
   "execution_count": 10,
   "metadata": {
    "collapsed": false
   },
   "outputs": [
    {
     "ename": "TypeError",
     "evalue": "'model' object is not iterable",
     "output_type": "error",
     "traceback": [
      "\u001b[0;31m---------------------------------------------------------------------------\u001b[0m",
      "\u001b[0;31mTypeError\u001b[0m                                 Traceback (most recent call last)",
      "\u001b[0;32m<ipython-input-10-d2bd3fd15dd1>\u001b[0m in \u001b[0;36m<module>\u001b[0;34m()\u001b[0m\n\u001b[0;32m----> 1\u001b[0;31m \u001b[0myk\u001b[0m\u001b[0;34m.\u001b[0m\u001b[0mPrintSolList\u001b[0m\u001b[0;34m(\u001b[0m\u001b[0;34m[\u001b[0m\u001b[0;34m'ATPase_Light_tx'\u001b[0m\u001b[0;34m,\u001b[0m\u001b[0;34m'Photon_Light_tx'\u001b[0m\u001b[0;34m]\u001b[0m\u001b[0;34m,\u001b[0m\u001b[0mm\u001b[0m\u001b[0;34m)\u001b[0m\u001b[0;34m\u001b[0m\u001b[0m\n\u001b[0m",
      "\u001b[0;32m/Users/yukai/Documents/Capstone/scobra_yk_addon.py\u001b[0m in \u001b[0;36mPrintSolList\u001b[0;34m(self, f)\u001b[0m\n\u001b[1;32m      3\u001b[0m \u001b[0;34m'''Allows you to print a list of reaction solutions'''\u001b[0m\u001b[0;34m\u001b[0m\u001b[0m\n\u001b[1;32m      4\u001b[0m \u001b[0;32mdef\u001b[0m \u001b[0mPrintSolList\u001b[0m\u001b[0;34m(\u001b[0m\u001b[0mself\u001b[0m\u001b[0;34m,\u001b[0m \u001b[0mf\u001b[0m\u001b[0;34m=\u001b[0m\u001b[0mlist\u001b[0m\u001b[0;34m,\u001b[0m \u001b[0mmodel\u001b[0m\u001b[0;34m)\u001b[0m\u001b[0;34m:\u001b[0m\u001b[0;34m\u001b[0m\u001b[0m\n\u001b[0;32m----> 5\u001b[0;31m     \u001b[0;32mfor\u001b[0m \u001b[0melement\u001b[0m \u001b[0;32min\u001b[0m \u001b[0mf\u001b[0m\u001b[0;34m:\u001b[0m\u001b[0;34m\u001b[0m\u001b[0m\n\u001b[0m\u001b[1;32m      6\u001b[0m         \u001b[0mmodel\u001b[0m\u001b[0;34m.\u001b[0m\u001b[0mPrintSol\u001b[0m\u001b[0;34m(\u001b[0m\u001b[0mf\u001b[0m\u001b[0;34m=\u001b[0m\u001b[0melement\u001b[0m\u001b[0;34m)\u001b[0m\u001b[0;34m\u001b[0m\u001b[0m\n",
      "\u001b[0;31mTypeError\u001b[0m: 'model' object is not iterable"
     ]
    }
   ],
   "source": []
  },
  {
   "cell_type": "code",
   "execution_count": null,
   "metadata": {
    "collapsed": true
   },
   "outputs": [],
   "source": []
  }
 ],
 "metadata": {
  "anaconda-cloud": {},
  "kernelspec": {
   "display_name": "Python [Root]",
   "language": "python",
   "name": "Python [Root]"
  },
  "language_info": {
   "codemirror_mode": {
    "name": "ipython",
    "version": 2
   },
   "file_extension": ".py",
   "mimetype": "text/x-python",
   "name": "python",
   "nbconvert_exporter": "python",
   "pygments_lexer": "ipython2",
   "version": "2.7.12"
  }
 },
 "nbformat": 4,
 "nbformat_minor": 0
}
