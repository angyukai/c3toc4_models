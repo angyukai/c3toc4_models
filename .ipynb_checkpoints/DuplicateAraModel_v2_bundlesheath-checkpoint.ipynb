{
 "cells": [
  {
   "cell_type": "code",
   "execution_count": 1,
   "metadata": {
    "collapsed": false
   },
   "outputs": [],
   "source": [
    "import scobra\n",
    "import pandas as pd\n",
    "import suppFunctions as sf\n",
    "from cobra import Metabolite\n",
    "m1m2 = scobra.Model('AraLightDarkCore_DbMesophyll_v3.xls')\n",
    "m = scobra.Model('AraLightDarkCore_ScrumPy.xls')"
   ]
  },
  {
   "cell_type": "markdown",
   "metadata": {
    "collapsed": true
   },
   "source": [
    "## M constraints"
   ]
  },
  {
   "cell_type": "code",
   "execution_count": 2,
   "metadata": {
    "collapsed": false
   },
   "outputs": [
    {
     "name": "stdout",
     "output_type": "stream",
     "text": [
      "optimal\n"
     ]
    }
   ],
   "source": [
    "#constraint list\n",
    "\n",
    "constraints_list = {'Photon_Light_tx':(0,None),\n",
    "                   'Photon_Dark_tx':(0,0),\n",
    "                   'GLC_Dark_tx':(0,0),\n",
    "                   'GLC_Light_tx':(0,0),\n",
    "                   'Sucrose_Dark_tx':(0,0),\n",
    "                   'Sucrose_Light_tx':(0,0),\n",
    "                   'TAG_Dark_tx':(0,0),\n",
    "                   'TAG_Light_tx':(0,0),\n",
    "                   'Starch_Dark_tx':(0,0),\n",
    "                   'Starch_Light_tx':(0,0),\n",
    "                   'NADPH_Dehydrogenase_Dark_p':(0,0),\n",
    "                   'NADPH_Dehydrogenase_Light_p':(0,0),\n",
    "                   'NADPHoxx_Light_tx':(0,0),\n",
    "                    'NADPHoxx_Dark_tx':(0,0),\n",
    "                    'Plastoquinol_Oxidase_Dark_p':(0,0),\n",
    "                    'Plastoquinol_Oxidase_Light_p':(0,0),\n",
    "                    'NH4_Light_tx':(0,0),\n",
    "                    'NH4_Dark_tx':(0,0)\n",
    "                   }\n",
    "\n",
    "m.SetConstraints(constraints_list)\n",
    "\n",
    "\n",
    "lightdic = {'Alanine_Light_biomass':-9.7,'Arginine_Light_biomass':-1.6,'Asparagine_Light_biomass':-10.1,'Aspartate_Light_biomass':-9.5,\n",
    "'Glutamate_Light_biomass':-11.4,'Glutamine_Light_biomass':-33.2,'Glycine_Light_biomass':-0.7,'Serine_Light_biomass':-7.7,\n",
    "'Tyrosine_Light_biomass':-0.6,'Histidine_Light_biomass':-0.4,'Isoleucine_Light_biomass':-1.2,'Leucine_Light_biomass':-1.2,\n",
    "'Lysine_Light_biomass':-1.8,'Methionine_Light_biomass':-0.7,'Phenylalanine_Light_biomass':-1.1,'Threonine_Light_biomass':-5.6,\n",
    "'Tryptophan_Light_biomass':-0.9,'Valine_Light_biomass':-2.4}\n",
    "\n",
    "darkdic = {'Alanine_Dark_biomass':-9.7,'Arginine_Dark_biomass':-1.6,'Asparagine_Dark_biomass':-10.1,'Aspartate_Dark_biomass':-9.5,\n",
    "'Glutamate_Dark_biomass':-11.4,'Glutamine_Dark_biomass':-33.2,'Glycine_Dark_biomass':-0.7,'Serine_Dark_biomass':-7.7,\n",
    "'Tyrosine_Dark_biomass':-0.6,'Histidine_Dark_biomass':-0.4,'Isoleucine_Dark_biomass':-1.2,'Leucine_Dark_biomass':-1.2,\n",
    "'Lysine_Dark_biomass':-1.8,'Methionine_Dark_biomass':-0.7,'Phenylalanine_Dark_biomass':-1.1,'Threonine_Dark_biomass':-5.6,\n",
    "'Tryptophan_Dark_biomass':-0.9,'Valine_Dark_biomass':-2.4}\n",
    "\n",
    "exclude_list = []\n",
    "\n",
    "for i in lightdic.keys():\n",
    "    exclude_list.append(i)\n",
    "\n",
    "for i in darkdic.keys():\n",
    "    exclude_list.append(i)\n",
    "\n",
    "exclude_list.append('Sucrose_Light_biomass')\n",
    "exclude_list.append('Sucrose_Dark_biomass')\n",
    "\n",
    "list_b = m.Reactions('_biomass')\n",
    "\n",
    "for i in list_b:\n",
    "    check = sf.notInList(i, exclude_list)\n",
    "    if check:\n",
    "        m.SetConstraint(i,0,0)\n",
    "\n",
    "m.SetReacsFixedRatio({\"RXN-961_Dark_p\":1, \"RIBULOSE-BISPHOSPHATE-CARBOXYLASE-RXN_Dark_p\":3})\n",
    "m.SetReacsFixedRatio({\"RXN-961_Light_p\":1, \"RIBULOSE-BISPHOSPHATE-CARBOXYLASE-RXN_Light_p\":3})\n",
    "m.SetReacsFixedRatio({\"NO3_Light_tx\":3, 'NO3_Dark_tx':2})\n",
    "\n",
    "#Setting night and day export constraints.\n",
    "m.SetReacsFixedRatio({'Sucrose_Light_biomass':3,'Sucrose_Dark_biomass':1})\n",
    "\n",
    "# Setting ratios between sucrose and amino acids\n",
    "for aa in lightdic.keys():\n",
    "    m.SetReacsFixedRatio({aa:-lightdic[aa],'Sucrose_Light_biomass':220})\n",
    "\n",
    "for aa in darkdic.keys():\n",
    "    m.SetReacsFixedRatio({aa:-darkdic[aa],'Sucrose_Dark_biomass':220})\n",
    "\n",
    "#Set ATP and NADPH rxn to be None to 0. \n",
    "ATP_constraints = ['NADPHoxc', 'NADPHoxm', 'NADPHoxp']\n",
    "\n",
    "for reac in ATP_constraints:\n",
    "    nadph_d = reac+'_Light_tx'\n",
    "    nadph_n = reac+'_Dark_tx'\n",
    "    \n",
    "    m.SetReacsFixedRatio({nadph_d:1,'ATPase_Light_tx':9})\n",
    "    m.SetReacsFixedRatio({nadph_n:1,'ATPase_Dark_tx':9})\n",
    "\n",
    "# m.SetConstraints({'Sucrose_Light_biomass':(-0.01,-0.01)})\n",
    "# m.SetConstraints({'Sucrose_Dark_biomass':(-sucrose_dark,-sucrose_dark)})\n",
    "m.SetConstraints({'ATPase_Light_tx':(-7.5,-7.5)})\n",
    "m.SetConstraints({'ATPase_Dark_tx':(-7.5,-7.5)})\n",
    "\n",
    "m.SetConstraints({'Photon_Light_tx':(194,194)})\n",
    "\n",
    "#ATP maintenance should go in the direction that consumes ATP\n",
    "m.SetObjDirec('min')\n",
    "m.SetObjective('Sucrose_Light_biomass')\n",
    "m.SetObjective('Sucrose_Dark_biomass')\n",
    "m.MinFluxSolve()\n"
   ]
  },
  {
   "cell_type": "markdown",
   "metadata": {},
   "source": [
    "### Attempting to reduce plastid reactions by 0.4 in bundle sheath"
   ]
  },
  {
   "cell_type": "code",
   "execution_count": null,
   "metadata": {
    "collapsed": false
   },
   "outputs": [],
   "source": [
    "# p_M2_rxn = m1m2.Reactions('_p_M2')\n",
    "# p_M1_rxn = m1m2.Reactions('_p_M1')\n",
    "\n",
    "# print p_M2_rxn[2]\n",
    "# print p_M1_rxn[2]\n",
    "\n",
    "# exclude_p_list = ['NADPH_Dehydrogenase_Dark_p_M1','NADPH_Dehydrogenase_Light_p_M1',\n",
    "#                   'NADPH_Dehydrogenase_Dark_p_M2','NADPH_Dehydrogenase_Light_p_M2',\n",
    "#                   'Plastoquinol_Oxidase_Dark_p_M1','Plastoquinol_Oxidase_Light_p_M1',\n",
    "#                   'Plastoquinol_Oxidase_Dark_p_M2','Plastoquinol_Oxidase_Light_p_M2'\n",
    "#                   ]\n",
    "\n",
    "\n",
    "# for i in range(len(p_M2_rxn)):\n",
    "#     check1 = sf.notInList(p_M1_rxn[i], exclude_p_list)\n",
    "#     check2 = sf.notInList(p_M2_rxn[i], exclude_p_list)\n",
    "#     if check1 and check2:\n",
    "#         print p_M2_rxn[i]\n",
    "#         m1m2.SetReacsFixedRatio({p_M2_rxn[i]:4, p_M1_rxn[i]:5})"
   ]
  },
  {
   "cell_type": "markdown",
   "metadata": {},
   "source": [
    "## M1M2 constraints: Standard ones"
   ]
  },
  {
   "cell_type": "code",
   "execution_count": 3,
   "metadata": {
    "collapsed": false
   },
   "outputs": [
    {
     "name": "stdout",
     "output_type": "stream",
     "text": [
      "RIBULOSE-BISPHOSPHATE-CARBOXYLASE-RXN_Dark_p_M1_RXN-961_Dark_p_M1_fixedratio is already in the model\n",
      "RXN-961_Light_p_M1_RIBULOSE-BISPHOSPHATE-CARBOXYLASE-RXN_Light_p_M1_fixedratio is already in the model\n",
      "NO3_Dark_tx_M1_NO3_Light_tx_M1_fixedratio is already in the model\n"
     ]
    }
   ],
   "source": [
    "constraints = ['Photon_Dark_tx',\n",
    "                   'GLC_Dark_tx',\n",
    "                   'GLC_Light_tx',\n",
    "                   'Sucrose_Dark_tx',\n",
    "                   'Sucrose_Light_tx',\n",
    "                   'TAG_Dark_tx',\n",
    "                   'TAG_Light_tx',\n",
    "                   'Starch_Dark_tx',\n",
    "                   'Starch_Light_tx',\n",
    "                   'NADPH_Dehydrogenase_Dark_p',\n",
    "                   'NADPH_Dehydrogenase_Light_p',\n",
    "                   'NADPHoxx_Light_tx',\n",
    "                    'NADPHoxx_Dark_tx',\n",
    "                    'Plastoquinol_Oxidase_Dark_p',\n",
    "                    'Plastoquinol_Oxidase_Light_p',\n",
    "                    'NH4_Light_tx',\n",
    "                    'NH4_Dark_tx']\n",
    "\n",
    "for tx in constraints:\n",
    "    reac = tx+'_M1'\n",
    "    m1m2.SetConstraint(reac,0,0)\n",
    "\n",
    "for tx in constraints:\n",
    "    reac = tx+'_M2'\n",
    "    m1m2.SetConstraint(reac,0,0)\n",
    "\n",
    "#Setting biomasses to 0\n",
    "lightdic = {'Alanine_Light_biomass':-9.7,'Arginine_Light_biomass':-1.6,'Asparagine_Light_biomass':-10.1,'Aspartate_Light_biomass':-9.5,\n",
    "'Glutamate_Light_biomass':-11.4,'Glutamine_Light_biomass':-33.2,'Glycine_Light_biomass':-0.7,'Serine_Light_biomass':-7.7,\n",
    "'Tyrosine_Light_biomass':-0.6,'Histidine_Light_biomass':-0.4,'Isoleucine_Light_biomass':-1.2,'Leucine_Light_biomass':-1.2,\n",
    "'Lysine_Light_biomass':-1.8,'Methionine_Light_biomass':-0.7,'Phenylalanine_Light_biomass':-1.1,'Threonine_Light_biomass':-5.6,\n",
    "'Tryptophan_Light_biomass':-0.9,'Valine_Light_biomass':-2.4}\n",
    "\n",
    "darkdic = {'Alanine_Dark_biomass':-9.7,'Arginine_Dark_biomass':-1.6,'Asparagine_Dark_biomass':-10.1,'Aspartate_Dark_biomass':-9.5,\n",
    "'Glutamate_Dark_biomass':-11.4,'Glutamine_Dark_biomass':-33.2,'Glycine_Dark_biomass':-0.7,'Serine_Dark_biomass':-7.7,\n",
    "'Tyrosine_Dark_biomass':-0.6,'Histidine_Dark_biomass':-0.4,'Isoleucine_Dark_biomass':-1.2,'Leucine_Dark_biomass':-1.2,\n",
    "'Lysine_Dark_biomass':-1.8,'Methionine_Dark_biomass':-0.7,'Phenylalanine_Dark_biomass':-1.1,'Threonine_Dark_biomass':-5.6,\n",
    "'Tryptophan_Dark_biomass':-0.9,'Valine_Dark_biomass':-2.4}\n",
    "\n",
    "exclude_list = []\n",
    "\n",
    "for aa in lightdic.keys():\n",
    "    M1 = aa+'_M1'\n",
    "    exclude_list.append(M1)\n",
    "    M2 = aa+'_M2'\n",
    "    exclude_list.append(M2)\n",
    "\n",
    "for aa in darkdic.keys():\n",
    "    M1 = aa+'_M1'\n",
    "    exclude_list.append(M1)\n",
    "    M2 = aa+'_M2'\n",
    "    exclude_list.append(M2)\n",
    "\n",
    "exclude_list.append('Sucrose_Light_biomass_M1')\n",
    "exclude_list.append('Sucrose_Light_biomass_M2')\n",
    "exclude_list.append('Sucrose_Dark_biomass_M1')\n",
    "exclude_list.append('Sucrose_Dark_biomass_M2')\n",
    "\n",
    "list_b = m1m2.Reactions('_biomass')\n",
    "\n",
    "for i in list_b:\n",
    "    check = sf.notInList(i, exclude_list)\n",
    "    if check:\n",
    "        m1m2.SetConstraint(i,0,0)\n",
    "\n",
    "m1m2.SetReacsFixedRatio({\"RXN-961_Dark_p_M1\":1, \"RIBULOSE-BISPHOSPHATE-CARBOXYLASE-RXN_Dark_p_M1\":3})\n",
    "m1m2.SetReacsFixedRatio({\"RXN-961_Dark_p_M2\":1, \"RIBULOSE-BISPHOSPHATE-CARBOXYLASE-RXN_Dark_p_M2\":3})\n",
    "m1m2.SetReacsFixedRatio({\"RXN-961_Light_p_M1\":1, \"RIBULOSE-BISPHOSPHATE-CARBOXYLASE-RXN_Light_p_M1\":3})\n",
    "m1m2.SetReacsFixedRatio({\"RXN-961_Light_p_M2\":1, \"RIBULOSE-BISPHOSPHATE-CARBOXYLASE-RXN_Light_p_M2\":3})\n",
    "m1m2.SetReacsFixedRatio({\"NO3_Light_tx_M1\":3, 'NO3_Dark_tx_M1':2})\n",
    "m1m2.SetReacsFixedRatio({\"NO3_Light_tx_M2\":3, 'NO3_Dark_tx_M2':2})"
   ]
  },
  {
   "cell_type": "code",
   "execution_count": null,
   "metadata": {
    "collapsed": false
   },
   "outputs": [],
   "source": [
    "#Set ATP and NADPH rxn to be None to 0. \n",
    "ATP_constraints = ['NADPHoxc', 'NADPHoxm', 'NADPHoxp']\n",
    "\n",
    "for reac in ATP_constraints:\n",
    "    nadph_d = reac+'_Light_tx_M1'\n",
    "    nadph_n = reac+'_Dark_tx_M1'\n",
    "    \n",
    "    m1m2.SetReacsFixedRatio({nadph_d:1,'ATPase_Light_tx_M1':9})\n",
    "    m1m2.SetReacsFixedRatio({nadph_n:1,'ATPase_Dark_tx_M1':9})\n",
    "    \n",
    "for reac in ATP_constraints:\n",
    "    nadph_d = reac+'_Light_tx_M2'\n",
    "    nadph_n = reac+'_Dark_tx_M2'\n",
    "    \n",
    "    m1m2.SetReacsFixedRatio({nadph_d:1,'ATPase_Light_tx_M2':9})\n",
    "    m1m2.SetReacsFixedRatio({nadph_n:1,'ATPase_Dark_tx_M2':9})\n",
    "\n",
    "    \n",
    "    \n",
    "#Setting night and day export constraints.\n",
    "m1m2.SetReacsFixedRatio({'Sucrose_Light_biomass_M1':3,'Sucrose_Dark_biomass_M1':1})\n",
    "m1m2.SetReacsFixedRatio({'Sucrose_Light_biomass_M2':3,'Sucrose_Dark_biomass_M2':1})\n",
    "\n",
    "# Setting ratios between sucrose and amino acids\n",
    "for aa in lightdic.keys():\n",
    "    print aa+'_M1'\n",
    "    m1m2.SetReacsFixedRatio({aa+'_M1':-lightdic[aa],'Sucrose_Light_biomass_M1':220})\n",
    "    m1m2.SetReacsFixedRatio({aa+'_M2':-lightdic[aa],'Sucrose_Light_biomass_M2':220})\n",
    "\n",
    "for aa in darkdic.keys():\n",
    "    m1m2.SetReacsFixedRatio({aa+'_M1':-darkdic[aa],'Sucrose_Dark_biomass_M1':220})\n",
    "    m1m2.SetReacsFixedRatio({aa+'_M2':-darkdic[aa],'Sucrose_Dark_biomass_M2':220})\n",
    "\n",
    "\n",
    "m1m2.SetConstraints({'ATPase_Light_tx_M1':(-7.5,-7.5)})\n",
    "m1m2.SetConstraints({'ATPase_Dark_tx_M1':(-7.5,-7.5)})\n",
    "m1m2.SetConstraints({'ATPase_Light_tx_M2':(-7.5,-7.5)})\n",
    "m1m2.SetConstraints({'ATPase_Dark_tx_M2':(-7.5,-7.5)})"
   ]
  },
  {
   "cell_type": "code",
   "execution_count": null,
   "metadata": {
    "collapsed": true
   },
   "outputs": [],
   "source": []
  },
  {
   "cell_type": "markdown",
   "metadata": {},
   "source": [
    "## Cutting link for M1M2"
   ]
  },
  {
   "cell_type": "code",
   "execution_count": null,
   "metadata": {
    "collapsed": true
   },
   "outputs": [],
   "source": [
    "# m1m2.SetConstraints({'Sucrose_Light_M1M2':(0,0)})\n",
    "# m1m2.SetConstraints({'Sucrose_Dark_M1M2':(0,0)})\n",
    "\n",
    "# AA_met = ['GLY','GLN','MET','LEU','HIS','VAL','ILE',\n",
    "#          'L-ALPHA-ALANINE','L-ASPARTATE','SER','TYR','LYS','PHE',\n",
    "#          'ARG','TRP','GLT','ASN','THR']\n",
    "\n",
    "# for aa in AA_met:\n",
    "#     m1m2.SetConstraints({aa+'_Light_M1M2':(0,0)})\n",
    "\n",
    "# for aa in AA_met:\n",
    "#     m1m2.SetConstraints({aa+'_Dark_M1M2':(0,0)})"
   ]
  },
  {
   "cell_type": "markdown",
   "metadata": {},
   "source": [
    "## Variable M1M2 constraints for photon and sucrose"
   ]
  },
  {
   "cell_type": "code",
   "execution_count": null,
   "metadata": {
    "collapsed": false
   },
   "outputs": [],
   "source": [
    "m1m2.SetObjDirec('min')\n",
    "\n",
    "m1m2.SetConstraints({'Photon_Light_tx_M1':(194,194)})\n",
    "m1m2.SetConstraints({'Photon_Light_tx_M2':(194,194)})\n",
    "m1m2.SetConstraints({'Sucrose_Light_biomass_M1':(0,0)})\n",
    "m1m2.SetConstraints({'Sucrose_Dark_biomass_M1':(0,0)})\n",
    "m1m2.SetObjective({'Sucrose_Light_biomass_M2'})\n",
    "m1m2.SetObjective({'Sucrose_Dark_biomass_M2'})\n",
    "m1m2.SetObjective({'Sucrose_Light_biomass_M1'})\n",
    "m1m2.SetObjective({'Sucrose_Dark_biomass_M1'})\n",
    "m1m2.MinFluxSolve()\n",
    "\n",
    "\n",
    "sol_M1M2 = m1m2.GetSol(IncZeroes=True)\n",
    "sol_M = m.GetSol(IncZeroes=True)\n",
    "\n",
    "m1m2.PrintSol('Sucrose_Light_M1M2', IncZeroes=True)\n",
    "m1m2.PrintSol('Sucrose_Dark_M1M2', IncZeroes=True)\n",
    "m1m2.PrintSol('Photon_Light_tx_M1', IncZeroes=True)\n",
    "m1m2.PrintSol('Photon_Light_tx_M2', IncZeroes=True)\n",
    "m1m2.PrintSol('Sucrose_Light_biomass_M1', IncZeroes=True)\n",
    "m1m2.PrintSol('Sucrose_Light_biomass_M2', IncZeroes=True)\n",
    "m.PrintSol('Sucrose_Light_biomass',IncZeroes=True)\n",
    "\n",
    "\n",
    "print \"\\n\"\n",
    "\n",
    "sf.visualizeDataCategories(sol_M1M2,sol_M,writeData=True)"
   ]
  },
  {
   "cell_type": "markdown",
   "metadata": {},
   "source": [
    "## Step 1: Increased GDC activity in M2, reduced in M1"
   ]
  },
  {
   "cell_type": "code",
   "execution_count": null,
   "metadata": {
    "collapsed": false
   },
   "outputs": [],
   "source": [
    "m1m2.SetConstraints({'GCVMULTI-RXN_Light_m_M1':(0,1.0)})\n",
    "m1m2.SetConstraints({'GCVMULTI-RXN_Dark_m_M1':(0,1.0)})\n",
    "m1m2.SetConstraints({'GCVMULTI-RXN_Light_m_M2':(0,4.0)})\n",
    "m1m2.SetConstraints({'GCVMULTI-RXN_Dark_m_M2':(0,4.0)})\n",
    "m1m2.MinFluxSolve()\n",
    "\n",
    "\n",
    "sol_M1M2 = m1m2.GetSol(IncZeroes=True)\n",
    "sol_M = m.GetSol(IncZeroes=True)\n",
    "\n",
    "sf.visualizeDataCategories(sol_M1M2,sol_M,writeData=True)"
   ]
  },
  {
   "cell_type": "markdown",
   "metadata": {},
   "source": [
    "## Step 2: Increased PEPCase/PPDK activity in M1"
   ]
  },
  {
   "cell_type": "code",
   "execution_count": null,
   "metadata": {
    "collapsed": false,
    "scrolled": true
   },
   "outputs": [],
   "source": [
    "m1m2.SetConstraints({'PEPCARBOX-RXN_Light_c_M1':(2.0,None)})\n",
    "m1m2.SetConstraints({'PEPCARBOX-RXN_Light_c_M2':(0,0)})\n",
    "m1m2.MinFluxSolve()\n",
    "\n",
    "\n",
    "sol_M1M2 = m1m2.GetSol(IncZeroes=True)\n",
    "sol_M = m.GetSol(IncZeroes=True)\n",
    "\n",
    "sf.visualizeDataCategories(sol_M1M2,sol_M,writeData=True)"
   ]
  },
  {
   "cell_type": "markdown",
   "metadata": {},
   "source": [
    "## Step 2.2 Adding malate transporter"
   ]
  },
  {
   "cell_type": "code",
   "execution_count": null,
   "metadata": {
    "collapsed": false
   },
   "outputs": [],
   "source": [
    "# m1m2.AddReaction('MAL_Light_M1M2',{'MAL_Light_c_M1':-1,'MAL_Light_c_M2':1},True)\n",
    "# m1m2.AddReaction('MAL_Dark_M1M2',{'MAL_Dark_c_M1':-1,'MAL_dark_c_M2':1},True)\n",
    "\n",
    "# m1m2.MinFluxSolve()\n",
    "\n",
    "\n",
    "# sol_M1M2 = m1m2.GetSol(IncZeroes=True)\n",
    "# sol_M = m.GetSol(IncZeroes=True)\n",
    "\n",
    "# sf.visualizeDataCategories(sol_M1M2,sol_M,writeData=True)\n",
    "\n"
   ]
  },
  {
   "cell_type": "markdown",
   "metadata": {},
   "source": [
    "## Step 3: Increased CA in M1, reduced in M2"
   ]
  },
  {
   "cell_type": "code",
   "execution_count": null,
   "metadata": {
    "collapsed": false
   },
   "outputs": [],
   "source": [
    "# m1m2.SetConstraints({'PEPCARBOX-RXN_Light_c_M1':(0.4,0.4)})\n",
    "# m1m2.SetConstraints({'RXN0-5224_Light_c_M1':(0.45,None)})\n",
    "# m1m2.MinFluxSolve()\n",
    "\n",
    "\n",
    "# sol_M1M2 = m1m2.GetSol(IncZeroes=True)\n",
    "# sol_M = m.GetSol(IncZeroes=True)\n",
    "\n",
    "# sf.visualizeDataCategories(sol_M1M2,sol_M,writeData=True)"
   ]
  },
  {
   "cell_type": "markdown",
   "metadata": {
    "collapsed": false,
    "scrolled": false
   },
   "source": [
    "## Step 4: Reducing Rubisco activity in M1"
   ]
  },
  {
   "cell_type": "code",
   "execution_count": null,
   "metadata": {
    "collapsed": false
   },
   "outputs": [],
   "source": [
    "m1m2.SetConstraints({'RIBULOSE-BISPHOSPHATE-CARBOXYLASE-RXN_Light_p_M1':(-1000,0)})\n",
    "m1m2.SetConstraints({'RIBULOSE-BISPHOSPHATE-CARBOXYLASE-RXN_Light_p_M2':(30,None)})\n",
    "m1m2.MinFluxSolve()\n",
    "\n",
    "\n",
    "sol_M1M2 = m1m2.GetSol(IncZeroes=True)\n",
    "sol_M = m.GetSol(IncZeroes=True)\n",
    "\n",
    "sf.visualizeDataCategories(sol_M1M2,sol_M,writeData=True)"
   ]
  },
  {
   "cell_type": "markdown",
   "metadata": {
    "collapsed": false
   },
   "source": [
    "## Adding/Deleting reactions (should usually be commented out)"
   ]
  },
  {
   "cell_type": "code",
   "execution_count": null,
   "metadata": {
    "collapsed": false
   },
   "outputs": [],
   "source": [
    "# AA_met = ['GLY','GLN','MET','LEU','HIS','VAL','ILE',\n",
    "#          'L-ALPHA-ALANINE','L-ASPARTATE','SER','TYR','LYS','PHE',\n",
    "#          'ARG','TRP','GLT','ASN','THR']\n",
    "\n",
    "# #transport AA from M1 to M2 LIGHT\n",
    "# for met in AA_met:\n",
    "#     m1m2.AddReaction(met+'_Light_M1M2',{met+'_Light_c_M1':-1,met+'_Light_c_M2':1},True)\n",
    "\n",
    "# #transport AA from M1 to M2 DARK\n",
    "# for met in AA_met:\n",
    "#     m1m2.AddReaction(met+'_Dark_M1M2',{met+'_Dark_c_M1':-1,met+'_Dark_c_M2':1},True)\n",
    "\n",
    "# m1m2.PrintReaction('GLN_Light_M1M2')\n",
    "# m1m2.PrintReaction('GLN_Dark_M1M2')\n",
    "# m1m2.PrintReaction('Sucrose_Light_M1M2')\n",
    "\n",
    "\n",
    "#Adding malate transporters between M1 and M2\n",
    "\n",
    "# m1m2.AddReaction('MAL_Light_M1M2',{'MAL_Light_c_M1':-1,'MAL_Light_c_M2':1},True)\n",
    "# m1m2.AddReaction('MAL_Dark_M1M2',{'MAL_Dark_c_M1':-1,'MAL_dark_c_M2':1},True)\n",
    "\n"
   ]
  },
  {
   "cell_type": "code",
   "execution_count": null,
   "metadata": {
    "collapsed": false
   },
   "outputs": [],
   "source": [
    "\n",
    "# m1m2.PrintReaction('GLN_Dark_M1M2')"
   ]
  },
  {
   "cell_type": "code",
   "execution_count": null,
   "metadata": {
    "collapsed": true
   },
   "outputs": [],
   "source": [
    "## # m1m2.WriteModel('AraLightDarkCore_DbMesophyll_v1.xls', 'excel')\n",
    "# m1m2.WriteModel('AraLightDarkCore_DbMesophyll_v3.xls', 'excel')"
   ]
  }
 ],
 "metadata": {
  "anaconda-cloud": {},
  "kernelspec": {
   "display_name": "Python [Root]",
   "language": "python",
   "name": "Python [Root]"
  },
  "language_info": {
   "codemirror_mode": {
    "name": "ipython",
    "version": 2
   },
   "file_extension": ".py",
   "mimetype": "text/x-python",
   "name": "python",
   "nbconvert_exporter": "python",
   "pygments_lexer": "ipython2",
   "version": "2.7.12"
  }
 },
 "nbformat": 4,
 "nbformat_minor": 0
}
