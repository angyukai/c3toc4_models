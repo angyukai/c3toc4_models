{
 "cells": [
  {
   "cell_type": "code",
   "execution_count": 1,
   "metadata": {
    "collapsed": false
   },
   "outputs": [],
   "source": [
    "import scobra\n",
    "from cobra import Metabolite\n",
    "m = scobra.Model('AraLightDarkCore_DbMesophyll_v2.xls')\n",
    "\n"
   ]
  },
  {
   "cell_type": "markdown",
   "metadata": {},
   "source": [
    "## Personal functions for scobra"
   ]
  },
  {
   "cell_type": "code",
   "execution_count": 2,
   "metadata": {
    "collapsed": true
   },
   "outputs": [],
   "source": [
    "def notInList(element, alist):\n",
    "    for i in alist:\n",
    "        if element == i:\n",
    "            return False\n",
    "    return True\n",
    "\n",
    "def PrintSolList(model, reacList):\n",
    "    for i in range(len(reacList)):\n",
    "        model.PrintSol(reacList[i])\n",
    "        \n",
    "def PrintAminoAcids(sol, lightdic, darkdic):\n",
    "    \n",
    "    aaLightM1 = 0\n",
    "    aaDarkM1 = 0\n",
    "    aaLightM2 = 0\n",
    "    aaDarkM2 = 0\n",
    "    \n",
    "    for i in lightdic:\n",
    "        aaLightM1 += sol[i+'_M1']\n",
    "    \n",
    "    for i in darkdic:\n",
    "        aaDarkM1 += sol[i+'_M1']\n",
    "    \n",
    "    for i in lightdic:\n",
    "        aaLightM2 += sol[i+'_M2']\n",
    "    \n",
    "    for i in darkdic:\n",
    "        aaDarkM2 += sol[i+'_M2']\n",
    "        \n",
    "    print \"Amino-acid_Light_M1: \",aaLightM1\n",
    "    print \"Amino-acid_Dark_M1: \",aaDarkM1\n",
    "    print \"Amino-acid_Light_M2: \",aaLightM2\n",
    "    print \"Amino-acid_Dark_M2: \",aaDarkM2\n",
    "        \n",
    "    \n",
    "\n",
    "    \n",
    "    "
   ]
  },
  {
   "cell_type": "markdown",
   "metadata": {},
   "source": [
    "## Constraints start here"
   ]
  },
  {
   "cell_type": "code",
   "execution_count": 3,
   "metadata": {
    "collapsed": false
   },
   "outputs": [],
   "source": [
    "constraints = ['Photon_Dark_tx',\n",
    "                   'GLC_Dark_tx',\n",
    "                   'GLC_Light_tx',\n",
    "                   'Sucrose_Dark_tx',\n",
    "                   'Sucrose_Light_tx',\n",
    "                   'TAG_Dark_tx',\n",
    "                   'TAG_Light_tx',\n",
    "                   'Starch_Dark_tx',\n",
    "                   'Starch_Light_tx',\n",
    "                   'NADPH_Dehydrogenase_Dark_p',\n",
    "                   'NADPH_Dehydrogenase_Light_p',\n",
    "                   'NADPHoxx_Light_tx',\n",
    "                    'NADPHoxx_Dark_tx',\n",
    "                    'Plastoquinol_Oxidase_Dark_p',\n",
    "                    'Plastoquinol_Oxidase_Light_p',\n",
    "                    'NH4_Light_tx',\n",
    "                    'NH4_Dark_tx']\n",
    "\n",
    "# m.SetConstraint('Photon_Light_tx_M1',0,None)\n",
    "# m.SetConstraint('Photon_Light_tx_M2',0,None)\n",
    "\n",
    "for tx in constraints:\n",
    "    reac = tx+'_M1'\n",
    "    m.SetConstraint(reac,0,0)\n",
    "\n",
    "for tx in constraints:\n",
    "    reac = tx+'_M2'\n",
    "    m.SetConstraint(reac,0,0)\n",
    "\n"
   ]
  },
  {
   "cell_type": "code",
   "execution_count": 4,
   "metadata": {
    "collapsed": false
   },
   "outputs": [],
   "source": [
    "lightdic = {'Alanine_Light_biomass':-9.7,'Arginine_Light_biomass':-1.6,'Asparagine_Light_biomass':-10.1,'Aspartate_Light_biomass':-9.5,\n",
    "'Glutamate_Light_biomass':-11.4,'Glutamine_Light_biomass':-33.2,'Glycine_Light_biomass':-0.7,'Serine_Light_biomass':-7.7,\n",
    "'Tyrosine_Light_biomass':-0.6,'Histidine_Light_biomass':-0.4,'Isoleucine_Light_biomass':-1.2,'Leucine_Light_biomass':-1.2,\n",
    "'Lysine_Light_biomass':-1.8,'Methionine_Light_biomass':-0.7,'Phenylalanine_Light_biomass':-1.1,'Threonine_Light_biomass':-5.6,\n",
    "'Tryptophan_Light_biomass':-0.9,'Valine_Light_biomass':-2.4}\n",
    "\n",
    "darkdic = {'Alanine_Dark_biomass':-9.7,'Arginine_Dark_biomass':-1.6,'Asparagine_Dark_biomass':-10.1,'Aspartate_Dark_biomass':-9.5,\n",
    "'Glutamate_Dark_biomass':-11.4,'Glutamine_Dark_biomass':-33.2,'Glycine_Dark_biomass':-0.7,'Serine_Dark_biomass':-7.7,\n",
    "'Tyrosine_Dark_biomass':-0.6,'Histidine_Dark_biomass':-0.4,'Isoleucine_Dark_biomass':-1.2,'Leucine_Dark_biomass':-1.2,\n",
    "'Lysine_Dark_biomass':-1.8,'Methionine_Dark_biomass':-0.7,'Phenylalanine_Dark_biomass':-1.1,'Threonine_Dark_biomass':-5.6,\n",
    "'Tryptophan_Dark_biomass':-0.9,'Valine_Dark_biomass':-2.4}\n",
    "\n",
    "\n",
    "\n",
    "exclude_list = []\n",
    "\n",
    "for aa in lightdic.keys():\n",
    "    M1 = aa+'_M1'\n",
    "    exclude_list.append(M1)\n",
    "    M2 = aa+'_M2'\n",
    "    exclude_list.append(M2)\n",
    "\n",
    "for aa in darkdic.keys():\n",
    "    M1 = aa+'_M1'\n",
    "    exclude_list.append(M1)\n",
    "    M2 = aa+'_M2'\n",
    "    exclude_list.append(M2)\n",
    "\n",
    "exclude_list.append('Sucrose_Light_biomass_M1')\n",
    "exclude_list.append('Sucrose_Light_biomass_M2')\n",
    "exclude_list.append('Sucrose_Dark_biomass_M1')\n",
    "exclude_list.append('Sucrose_Dark_biomass_M2')\n",
    "\n",
    "list_b = m.Reactions('_biomass')\n",
    "\n",
    "for i in list_b:\n",
    "    check = notInList(i, exclude_list)\n",
    "    if check:\n",
    "        m.SetConstraint(i,0,0)"
   ]
  },
  {
   "cell_type": "code",
   "execution_count": 5,
   "metadata": {
    "collapsed": false
   },
   "outputs": [
    {
     "name": "stdout",
     "output_type": "stream",
     "text": [
      "RIBULOSE-BISPHOSPHATE-CARBOXYLASE-RXN_Dark_p_M1_RXN-961_Dark_p_M1_fixedratio is already in the model\n",
      "RXN-961_Dark_p_M2_RIBULOSE-BISPHOSPHATE-CARBOXYLASE-RXN_Dark_p_M2_fixedratio is already in the model\n",
      "RXN-961_Light_p_M1_RIBULOSE-BISPHOSPHATE-CARBOXYLASE-RXN_Light_p_M1_fixedratio is already in the model\n",
      "RIBULOSE-BISPHOSPHATE-CARBOXYLASE-RXN_Light_p_M2_RXN-961_Light_p_M2_fixedratio is already in the model\n",
      "NO3_Light_tx_M1_NO3_Dark_tx_M2_fixedratio is already in the model\n",
      "NO3_Light_tx_M1_NO3_Dark_tx_M2_fixedratio is already in the model\n",
      "NADPHoxc_Dark_tx_M1_ATPase_Dark_tx_M1_fixedratio is already in the model\n",
      "NADPHoxm_Dark_tx_M1_ATPase_Dark_tx_M1_fixedratio is already in the model\n",
      "NADPHoxp_Light_tx_M1_ATPase_Light_tx_M1_fixedratio is already in the model\n",
      "ATPase_Dark_tx_M1_NADPHoxp_Dark_tx_M1_fixedratio is already in the model\n",
      "ATPase_Light_tx_M2_NADPHoxc_Light_tx_M2_fixedratio is already in the model\n",
      "NADPHoxc_Dark_tx_M2_ATPase_Dark_tx_M2_fixedratio is already in the model\n",
      "ATPase_Light_tx_M2_NADPHoxm_Light_tx_M2_fixedratio is already in the model\n",
      "ATPase_Dark_tx_M2_NADPHoxm_Dark_tx_M2_fixedratio is already in the model\n",
      "NADPHoxp_Light_tx_M2_ATPase_Light_tx_M2_fixedratio is already in the model\n",
      "ATPase_Dark_tx_M2_NADPHoxp_Dark_tx_M2_fixedratio is already in the model\n"
     ]
    }
   ],
   "source": [
    "\n",
    "m.SetReacsFixedRatio({\"RXN-961_Dark_p_M1\":1, \"RIBULOSE-BISPHOSPHATE-CARBOXYLASE-RXN_Dark_p_M1\":3})\n",
    "m.SetReacsFixedRatio({\"RXN-961_Dark_p_M2\":1, \"RIBULOSE-BISPHOSPHATE-CARBOXYLASE-RXN_Dark_p_M2\":3})\n",
    "m.SetReacsFixedRatio({\"RXN-961_Light_p_M1\":1, \"RIBULOSE-BISPHOSPHATE-CARBOXYLASE-RXN_Light_p_M1\":3})\n",
    "m.SetReacsFixedRatio({\"RXN-961_Light_p_M2\":1, \"RIBULOSE-BISPHOSPHATE-CARBOXYLASE-RXN_Light_p_M2\":3})\n",
    "m.SetReacsFixedRatio({\"NO3_Light_tx_M1\":3, 'NO3_Dark_tx_M2':2})\n",
    "m.SetReacsFixedRatio({\"NO3_Light_tx_M1\":3, 'NO3_Dark_tx_M2':2})\n",
    "\n",
    "#Set ATP and NADPH rxn to be None to 0. \n",
    "ATP_constraints = ['NADPHoxc', 'NADPHoxm', 'NADPHoxp']\n",
    "\n",
    "for reac in ATP_constraints:\n",
    "    nadph_d = reac+'_Light_tx_M1'\n",
    "    nadph_n = reac+'_Dark_tx_M1'\n",
    "    \n",
    "    m.SetReacsFixedRatio({nadph_d:1,'ATPase_Light_tx_M1':9})\n",
    "    m.SetReacsFixedRatio({nadph_n:1,'ATPase_Dark_tx_M1':9})\n",
    "    \n",
    "for reac in ATP_constraints:\n",
    "    nadph_d = reac+'_Light_tx_M2'\n",
    "    nadph_n = reac+'_Dark_tx_M2'\n",
    "    \n",
    "    m.SetReacsFixedRatio({nadph_d:1,'ATPase_Light_tx_M2':9})\n",
    "    m.SetReacsFixedRatio({nadph_n:1,'ATPase_Dark_tx_M2':9})"
   ]
  },
  {
   "cell_type": "code",
   "execution_count": null,
   "metadata": {
    "collapsed": false
   },
   "outputs": [],
   "source": [
    "\n",
    "for reac in lightdic.keys():\n",
    "    M1reac = reac+'_M1'\n",
    "    M2reac = reac+'_M2'\n",
    "    m.SetReacsFixedRatio({reac:1,'Sucrose_Light_biomass_M1':2.2})\n",
    "    m.SetReacsFixedRatio({reac:1,'Sucrose_Light_biomass_M2':2.2})\n",
    "\n",
    "for reac in darkdic.keys():\n",
    "    M1reac = reac+'_M1'\n",
    "    M2reac = reac+'_M2'\n",
    "    m.SetReacsFixedRatio({reac:1,'Sucrose_Dark_biomass_M1':2.2})\n",
    "    m.SetReacsFixedRatio({reac:1,'Sucrose_Dark_biomass_M2':2.2})\n",
    "\n",
    "# for reac in darkdic:\n",
    "#     aa_ratio = darkdic[reac]\n",
    "#     m.SetConstraints({reac+'_M1':((sucrose_dark_M1/aaSucrose_ratio)*aa_ratio/100,\n",
    "#                             (sucrose_dark/aaSucrose_ratio)*aa_ratio/100)})\n",
    "\n",
    "# for reac in lightdic:\n",
    "#     aa_ratio = lightdic[reac]\n",
    "#     m.SetConstraints({reac+'_M2':((sucrose_light_M2/aaSucrose_ratio)*aa_ratio/100,\n",
    "#                             (sucrose_light/aaSucrose_ratio)*aa_ratio/100)})\n",
    "\n",
    "# for reac in darkdic:\n",
    "#     aa_ratio = darkdic[reac]\n",
    "#     m.SetConstraints({reac+'_M2':((sucrose_dark_M2/aaSucrose_ratio)*aa_ratio/100,\n",
    "#                             (sucrose_dark/aaSucrose_ratio)*aa_ratio/100)})\n",
    "\n",
    "\n"
   ]
  },
  {
   "cell_type": "code",
   "execution_count": null,
   "metadata": {
    "collapsed": true
   },
   "outputs": [],
   "source": [
    "# Setting ratios for NADPH and ATPase \"The ratio of ATP maintenance cost:NADPH maintenance cost was as- sumed to be 3:1 \"\n",
    "#  'NADPHoxx' should be 0\n",
    "\n"
   ]
  },
  {
   "cell_type": "code",
   "execution_count": null,
   "metadata": {
    "collapsed": false
   },
   "outputs": [],
   "source": [
    "sucrose_light_M1 = 0.515625\n",
    "sucrose_dark_M1 = sucrose_light_M1/3\n",
    "sucrose_light_M2 = 0.515625\n",
    "sucrose_dark_M2 = sucrose_light_M2/3\n",
    "aaSucrose_ratio = 2.2\n",
    "\n",
    "m.SetConstraints({'Sucrose_Light_biomass_M1':(-sucrose_light_M1,-sucrose_light_M1)})\n",
    "m.SetConstraints({'Sucrose_Dark_biomass_M1':(-sucrose_dark_M1,-sucrose_dark_M1)})\n",
    "m.SetConstraints({'Sucrose_Light_biomass_M2':(-sucrose_light_M2,-sucrose_light_M2)})\n",
    "m.SetConstraints({'Sucrose_Dark_biomass_M2':(-sucrose_dark_M2,-sucrose_dark_M2)})\n",
    "# m.SetConstraints({'Sucrose_Light_M1M2':(-sucrose_light_M1,-sucrose_light_M1)})\n",
    "# m.SetConstraints({'Sucrose_Dark_M1M2':(-sucrose_dark_M1,-sucrose_dark_M1)})\n",
    "\n",
    "\n",
    "#takes into consideration day/night, aa/sucrose, aa percentage ratios.\n",
    "for reac in lightdic:\n",
    "    aa_ratio = lightdic[reac]\n",
    "    m.SetConstraints({reac+'_M1':((sucrose_light_M1/aaSucrose_ratio)*aa_ratio/100,\n",
    "                            (sucrose_light_M1/aaSucrose_ratio)*aa_ratio/100)})\n",
    "for reac in darkdic:\n",
    "    aa_ratio = darkdic[reac]\n",
    "    m.SetConstraints({reac+'_M1':((sucrose_dark_M1/aaSucrose_ratio)*aa_ratio/100,\n",
    "                            (sucrose_dark_M1/aaSucrose_ratio)*aa_ratio/100)})\n",
    "for reac in lightdic:\n",
    "    aa_ratio = lightdic[reac]\n",
    "    m.SetConstraints({reac+'_M2':((sucrose_light_M2/aaSucrose_ratio)*aa_ratio/100,\n",
    "                            (sucrose_light_M2/aaSucrose_ratio)*aa_ratio/100)})\n",
    "for reac in darkdic:\n",
    "    aa_ratio = darkdic[reac]\n",
    "    m.SetConstraints({reac+'_M2':((sucrose_dark_M2/aaSucrose_ratio)*aa_ratio/100,\n",
    "                            (sucrose_dark_M2/aaSucrose_ratio)*aa_ratio/100)})\n",
    "\n",
    "# m.SetConstraints({'Photon_Light_tx_M1':(196,196)})\n",
    "# m.SetConstraints({'Photon_Light_tx_M2':(196,196)})\n",
    "\n",
    "m.SetConstraints({'ATPase_Light_tx_M1':(-7.5,-7.5)})\n",
    "m.SetConstraints({'ATPase_Dark_tx_M1':(-7.5,-7.5)})\n",
    "m.SetConstraints({'ATPase_Light_tx_M2':(-7.5,-7.5)})\n",
    "m.SetConstraints({'ATPase_Dark_tx_M2':(-7.5,-7.5)})\n"
   ]
  },
  {
   "cell_type": "markdown",
   "metadata": {},
   "source": [
    "## Meddling with reactions"
   ]
  },
  {
   "cell_type": "code",
   "execution_count": null,
   "metadata": {
    "collapsed": false
   },
   "outputs": [],
   "source": [
    "m.SetObjDirec('Min')\n",
    "# m.SetObjective('Sucrose_Light_biomass_M1')\n",
    "# m.SetObjective('Sucrose_Dark_biomass_M1')\n",
    "# m.SetObjective('Sucrose_Dark_biomass_M1')\n",
    "# m.SetObjective('Sucrose_Dark_biomass_M2')\n",
    "# m.SetObjective('Photon_Light_tx_M1')\n",
    "# m.SetObjective('Photon_Light_tx_M2')\n",
    "\n",
    "m.Solve()\n",
    "\n"
   ]
  },
  {
   "cell_type": "code",
   "execution_count": null,
   "metadata": {
    "collapsed": false
   },
   "outputs": [],
   "source": [
    "sol = m.GetSol()\n",
    "reacList = ['Photon_Light_tx_M1','Photon_Light_tx_M2','PSII-RXN_Light_p_M1','PSII-RXN_Light_p_M2','ATPase_Light_tx_M1',\n",
    "           'ATPase_Light_tx_M2', 'Sucrose_Light_biomass_M1', 'Sucrose_Light_biomass_M2', 'Sucrose_Dark_biomass_M1', \n",
    "            'Sucrose_Dark_biomass_M2','Sucrose_Light_M1M2', 'Sucrose_Light_biomass_M1', 'Sucrose_Dark_M1M2']\n",
    "\n",
    "# m.PrintSol()\n",
    "# m.PrintReaction('Sucrose_Light_M1M2')\n",
    "PrintSolList(m,reacList)\n",
    "PrintAminoAcids(sol,lightdic,darkdic)\n"
   ]
  },
  {
   "cell_type": "code",
   "execution_count": null,
   "metadata": {
    "collapsed": false
   },
   "outputs": [],
   "source": [
    "m.PrintReactions('_M1M2')"
   ]
  },
  {
   "cell_type": "markdown",
   "metadata": {
    "collapsed": false
   },
   "source": [
    "## Adding/Deleting reactions (should usually be commented out)"
   ]
  },
  {
   "cell_type": "code",
   "execution_count": null,
   "metadata": {
    "collapsed": true
   },
   "outputs": [],
   "source": [
    "# #Adding Sucrose_Light/Dark_M1M2 and Aminoacids_Light/Dark_M1M2 rxn\n",
    "# for aa in lightdic.keys():\n",
    "#     M1 = aa+'_M1'\n",
    "# # #     m.PrintReactions(M1)\n",
    "\n",
    "# m.DelReaction('Sucrose_Light_M1M2')\n",
    "# m.DelReaction('Sucrose_Dark_M1M2')\n",
    "\n",
    "# m.AddReaction('Sucrose_Light_M1M2', {'Sucrose_Light_c_M1':-1,'Sucrose_Light_c_M2':1},True)\n",
    "# m.AddReaction('Sucrose_Dark_M1M2', {'Sucrose_Dark_c_M1':-1,'Sucrose_Dark_c_M2':1},True)\n",
    "\n",
    "# AA_met = ['GLY','GLN','MET','LEU','HIS','VAL','ILE',\n",
    "#          'L-ALPHA-ALANINE','L-ASPARTATE','SER','TYR','LYS','PHE',\n",
    "#          'ARG','TRP','GLT','ASN','THR']\n",
    "\n",
    "# #transport AA from M1 to M2 LIGHT\n",
    "# for met in AA_met:\n",
    "#     m.AddReaction(met+'_Light_M1M2',{met+'_Light_c_M1':-1,met+'_Light_c_M2':1},True)\n",
    "\n",
    "# #transport AA from M1 to M2 DARK\n",
    "# for met in AA_met:\n",
    "#     m.AddReaction(met+'_Dark_M1M2',{met+'_Dark_c_M1':-1,met+'_Dark_c_M2':1},True)\n",
    "\n",
    "# m.PrintReaction('GLN_Light_M1M2')\n",
    "# m.PrintReaction('GLN_Dark_M1M2')\n",
    "# m.PrintReaction('Sucrose_Light_M1M2')\n",
    "\n"
   ]
  },
  {
   "cell_type": "code",
   "execution_count": null,
   "metadata": {
    "collapsed": true
   },
   "outputs": [],
   "source": [
    "\n",
    "# m.WriteModel('AraLightDarkCore_DbMesophyll_v1.xls', 'excel')\n",
    "# m.WriteModel('AraLightDarkCore_DbMesophyll_v2.xls', 'excel')"
   ]
  }
 ],
 "metadata": {
  "anaconda-cloud": {},
  "kernelspec": {
   "display_name": "Python [Root]",
   "language": "python",
   "name": "Python [Root]"
  },
  "language_info": {
   "codemirror_mode": {
    "name": "ipython",
    "version": 2
   },
   "file_extension": ".py",
   "mimetype": "text/x-python",
   "name": "python",
   "nbconvert_exporter": "python",
   "pygments_lexer": "ipython2",
   "version": "2.7.12"
  }
 },
 "nbformat": 4,
 "nbformat_minor": 0
}
