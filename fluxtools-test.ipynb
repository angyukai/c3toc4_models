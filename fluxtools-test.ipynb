{
 "cells": [
  {
   "cell_type": "code",
   "execution_count": 5,
   "metadata": {
    "collapsed": false
   },
   "outputs": [
    {
     "ename": "IndexError",
     "evalue": "string index out of range",
     "output_type": "error",
     "traceback": [
      "\u001b[0;31m---------------------------------------------------------------------------\u001b[0m",
      "\u001b[0;31mIndexError\u001b[0m                                Traceback (most recent call last)",
      "\u001b[0;32m<ipython-input-5-dda234240cee>\u001b[0m in \u001b[0;36m<module>\u001b[0;34m()\u001b[0m\n\u001b[1;32m      1\u001b[0m \u001b[0;32mimport\u001b[0m \u001b[0mfluxtools\u001b[0m\u001b[0;34m.\u001b[0m\u001b[0msbml_interface\u001b[0m \u001b[0;32mas\u001b[0m \u001b[0msi\u001b[0m\u001b[0;34m\u001b[0m\u001b[0m\n\u001b[0;32m----> 2\u001b[0;31m \u001b[0mm\u001b[0m \u001b[0;34m=\u001b[0m \u001b[0msi\u001b[0m\u001b[0;34m.\u001b[0m\u001b[0mfromSBMLFile\u001b[0m\u001b[0;34m(\u001b[0m\u001b[0;34m'conversion-test.xml'\u001b[0m\u001b[0;34m)\u001b[0m\u001b[0;34m\u001b[0m\u001b[0m\n\u001b[0m",
      "\u001b[0;32m/Users/yukai/anaconda2/lib/python2.7/site-packages/fluxtools/sbml_interface.pyc\u001b[0m in \u001b[0;36mfromSBMLFile\u001b[0;34m(fileName, id, duplicate_rxn_params)\u001b[0m\n\u001b[1;32m     71\u001b[0m \u001b[0;32mdef\u001b[0m \u001b[0mfromSBMLFile\u001b[0m\u001b[0;34m(\u001b[0m\u001b[0mfileName\u001b[0m\u001b[0;34m,\u001b[0m \u001b[0mid\u001b[0m \u001b[0;34m=\u001b[0m \u001b[0mNone\u001b[0m\u001b[0;34m,\u001b[0m \u001b[0mduplicate_rxn_params\u001b[0m\u001b[0;34m=\u001b[0m\u001b[0mFalse\u001b[0m\u001b[0;34m)\u001b[0m\u001b[0;34m:\u001b[0m\u001b[0;34m\u001b[0m\u001b[0m\n\u001b[1;32m     72\u001b[0m     \u001b[0mf\u001b[0m \u001b[0;34m=\u001b[0m \u001b[0mfile\u001b[0m\u001b[0;34m(\u001b[0m\u001b[0mfileName\u001b[0m\u001b[0;34m,\u001b[0m \u001b[0;34m'r'\u001b[0m\u001b[0;34m)\u001b[0m\u001b[0;34m\u001b[0m\u001b[0m\n\u001b[0;32m---> 73\u001b[0;31m     \u001b[0mnet\u001b[0m \u001b[0;34m=\u001b[0m \u001b[0mfromSBMLString\u001b[0m\u001b[0;34m(\u001b[0m\u001b[0mf\u001b[0m\u001b[0;34m.\u001b[0m\u001b[0mread\u001b[0m\u001b[0;34m(\u001b[0m\u001b[0;34m)\u001b[0m\u001b[0;34m,\u001b[0m \u001b[0mid\u001b[0m\u001b[0;34m,\u001b[0m \u001b[0mduplicate_rxn_params\u001b[0m\u001b[0;34m)\u001b[0m\u001b[0;34m\u001b[0m\u001b[0m\n\u001b[0m\u001b[1;32m     74\u001b[0m     \u001b[0mf\u001b[0m\u001b[0;34m.\u001b[0m\u001b[0mclose\u001b[0m\u001b[0;34m(\u001b[0m\u001b[0;34m)\u001b[0m\u001b[0;34m\u001b[0m\u001b[0m\n\u001b[1;32m     75\u001b[0m     \u001b[0;32mreturn\u001b[0m \u001b[0mnet\u001b[0m\u001b[0;34m\u001b[0m\u001b[0m\n",
      "\u001b[0;32m/Users/yukai/anaconda2/lib/python2.7/site-packages/fluxtools/sbml_interface.pyc\u001b[0m in \u001b[0;36mfromSBMLString\u001b[0;34m(sbmlStr, id, duplicate_rxn_params)\u001b[0m\n\u001b[1;32m    184\u001b[0m         rn.add_compartment(id = id, initial_size = size, \n\u001b[1;32m    185\u001b[0m                           \u001b[0mis_constant\u001b[0m \u001b[0;34m=\u001b[0m \u001b[0misConstant\u001b[0m\u001b[0;34m,\u001b[0m\u001b[0;34m\u001b[0m\u001b[0m\n\u001b[0;32m--> 186\u001b[0;31m                           name = name)\n\u001b[0m\u001b[1;32m    187\u001b[0m         \u001b[0mload_notes\u001b[0m\u001b[0;34m(\u001b[0m\u001b[0mc\u001b[0m\u001b[0;34m,\u001b[0m \u001b[0mrn\u001b[0m\u001b[0;34m.\u001b[0m\u001b[0mcompartments\u001b[0m\u001b[0;34m.\u001b[0m\u001b[0mgetByKey\u001b[0m\u001b[0;34m(\u001b[0m\u001b[0mid\u001b[0m\u001b[0;34m)\u001b[0m\u001b[0;34m)\u001b[0m\u001b[0;34m\u001b[0m\u001b[0m\n\u001b[1;32m    188\u001b[0m \u001b[0;34m\u001b[0m\u001b[0m\n",
      "\u001b[0;32m/Users/yukai/anaconda2/lib/python2.7/site-packages/fluxtools/reaction_networks/Network_mod.pyc\u001b[0m in \u001b[0;36madd_compartment\u001b[0;34m(self, id, initial_size, name, typical_value, is_constant, is_optimizable)\u001b[0m\n\u001b[1;32m     67\u001b[0m         compartment = Compartment(id, initial_size, name, typical_value, \n\u001b[1;32m     68\u001b[0m                                   is_constant, is_optimizable)\n\u001b[0;32m---> 69\u001b[0;31m         \u001b[0mself\u001b[0m\u001b[0;34m.\u001b[0m\u001b[0m_checkIdUniqueness\u001b[0m\u001b[0;34m(\u001b[0m\u001b[0mid\u001b[0m\u001b[0;34m)\u001b[0m\u001b[0;34m\u001b[0m\u001b[0m\n\u001b[0m\u001b[1;32m     70\u001b[0m         \u001b[0mself\u001b[0m\u001b[0;34m.\u001b[0m\u001b[0mcompartments\u001b[0m\u001b[0;34m.\u001b[0m\u001b[0mset\u001b[0m\u001b[0;34m(\u001b[0m\u001b[0mid\u001b[0m\u001b[0;34m,\u001b[0m\u001b[0mcompartment\u001b[0m\u001b[0;34m)\u001b[0m\u001b[0;34m\u001b[0m\u001b[0m\n\u001b[1;32m     71\u001b[0m \u001b[0;34m\u001b[0m\u001b[0m\n",
      "\u001b[0;32m/Users/yukai/anaconda2/lib/python2.7/site-packages/fluxtools/reaction_networks/Network_mod.pyc\u001b[0m in \u001b[0;36m_checkIdUniqueness\u001b[0;34m(self, id)\u001b[0m\n\u001b[1;32m    229\u001b[0m             logger.warn(\"'default' is a reserved keyword in C. This will cause \"\n\u001b[1;32m    230\u001b[0m                         \"problems using the C-based integrator.\")\n\u001b[0;32m--> 231\u001b[0;31m         \u001b[0;32melif\u001b[0m \u001b[0mid\u001b[0m\u001b[0;34m[\u001b[0m\u001b[0;36m0\u001b[0m\u001b[0;34m]\u001b[0m\u001b[0;34m.\u001b[0m\u001b[0misdigit\u001b[0m\u001b[0;34m(\u001b[0m\u001b[0;34m)\u001b[0m\u001b[0;34m:\u001b[0m\u001b[0;34m\u001b[0m\u001b[0m\n\u001b[0m\u001b[1;32m    232\u001b[0m             raise ValueError(\"The id %s is invalid. ids must not start with a \"\n\u001b[1;32m    233\u001b[0m                              \"number.\" % id)\n",
      "\u001b[0;31mIndexError\u001b[0m: string index out of range"
     ]
    }
   ],
   "source": [
    "import fluxtools.sbml_interface as si\n",
    "m = si.fromSBMLFile('conversion-test.xml')"
   ]
  },
  {
   "cell_type": "code",
   "execution_count": 4,
   "metadata": {
    "collapsed": false
   },
   "outputs": [
    {
     "data": {
      "text/plain": [
       "array([ 2.00000002,  4.00000008,  2.        ,  4.00000008,  6.0000001 ,\n",
       "        6.0000001 ])"
      ]
     },
     "execution_count": 4,
     "metadata": {},
     "output_type": "execute_result"
    }
   ],
   "source": [
    "from fluxtools.nlcm import NonlinearNetworkModel\n",
    "model = NonlinearNetworkModel('example', m,\n",
    "                              external_species_ids=('A_ext',))\n",
    "model.set_objective('max_sink', '-1.0*sink')\n",
    "model.add_constraint('quadratic', 'R2-R1**2', 0.)\n",
    "model.compile() \n",
    "model.set_bound('R3', (0., 2.))\n",
    "model.add_constraint('quadratic', 'R2-R1**2', 0.)\n",
    "model.compile()\n",
    "model.set_bound('R3', (0., 2.))\n",
    "model.solve()"
   ]
  }
 ],
 "metadata": {
  "kernelspec": {
   "display_name": "Python [Root]",
   "language": "python",
   "name": "Python [Root]"
  },
  "language_info": {
   "codemirror_mode": {
    "name": "ipython",
    "version": 2
   },
   "file_extension": ".py",
   "mimetype": "text/x-python",
   "name": "python",
   "nbconvert_exporter": "python",
   "pygments_lexer": "ipython2",
   "version": "2.7.12"
  }
 },
 "nbformat": 4,
 "nbformat_minor": 0
}
