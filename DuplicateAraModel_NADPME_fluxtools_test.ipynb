{
 "cells": [
  {
   "cell_type": "code",
   "execution_count": 12,
   "metadata": {
    "collapsed": false
   },
   "outputs": [],
   "source": [
    "import scobra\n",
    "import pandas as pd\n",
    "import fluxtools.sbml_interface as si\n",
    "import fluxtools.nlcm as nlcm\n",
    "import suppFunctions as sf\n",
    "import fluxtools.reaction_networks as rn\n",
    "from fluxtools.functions import Linear\n",
    "from fluxtools.nlcm import NonlinearNetworkModel\n",
    "from fluxtools import simplification\n",
    "from fluxtools.utilities import cobra"
   ]
  },
  {
   "cell_type": "code",
   "execution_count": 13,
   "metadata": {
    "collapsed": false
   },
   "outputs": [],
   "source": [
    "net = si.fromSBMLFile('conversion-test2.xml')\n",
    "oldm1m2 = scobra.Model('AraLightDarkCore_NADPME_v4-3.xls')\n",
    "reactions = net.reactions.copy()\n",
    "reaction_ids = reactions.keys()\n",
    "oldm = scobra.Model('AraLightDarkCore_ScrumPy.xls')"
   ]
  },
  {
   "cell_type": "code",
   "execution_count": null,
   "metadata": {
    "collapsed": false
   },
   "outputs": [],
   "source": [
    "#Setting biomasses to 0\n",
    "\n",
    "lightdic = {'Alanine_Light_biomass':-9.7,'Arginine_Light_biomass':-1.6,'Asparagine_Light_biomass':-10.1,'Aspartate_Light_biomass':-9.5,\n",
    "'Glutamate_Light_biomass':-11.4,'Glutamine_Light_biomass':-33.2,'Glycine_Light_biomass':-0.7,'Serine_Light_biomass':-7.7,\n",
    "'Tyrosine_Light_biomass':-0.6,'Histidine_Light_biomass':-0.4,'Isoleucine_Light_biomass':-1.2,'Leucine_Light_biomass':-1.2,\n",
    "'Lysine_Light_biomass':-1.8,'Methionine_Light_biomass':-0.7,'Phenylalanine_Light_biomass':-1.1,'Threonine_Light_biomass':-5.6,\n",
    "'Tryptophan_Light_biomass':-0.9,'Valine_Light_biomass':-2.4}\n",
    "\n",
    "darkdic = {'Alanine_Dark_biomass':-9.7,'Arginine_Dark_biomass':-1.6,'Asparagine_Dark_biomass':-10.1,'Aspartate_Dark_biomass':-9.5,\n",
    "'Glutamate_Dark_biomass':-11.4,'Glutamine_Dark_biomass':-33.2,'Glycine_Dark_biomass':-0.7,'Serine_Dark_biomass':-7.7,\n",
    "'Tyrosine_Dark_biomass':-0.6,'Histidine_Dark_biomass':-0.4,'Isoleucine_Dark_biomass':-1.2,'Leucine_Dark_biomass':-1.2,\n",
    "'Lysine_Dark_biomass':-1.8,'Methionine_Dark_biomass':-0.7,'Phenylalanine_Dark_biomass':-1.1,'Threonine_Dark_biomass':-5.6,\n",
    "'Tryptophan_Dark_biomass':-0.9,'Valine_Dark_biomass':-2.4}\n",
    "\n",
    "exclude_list = []\n",
    "\n",
    "for aa in lightdic.keys():\n",
    "    M1 = aa+'_M1'\n",
    "    exclude_list.append(M1)\n",
    "    M2 = aa+'_M2'\n",
    "    exclude_list.append(M2)\n",
    "\n",
    "for aa in darkdic.keys():\n",
    "    M1 = aa+'_M1'\n",
    "    exclude_list.append(M1)\n",
    "    M2 = aa+'_M2'\n",
    "    exclude_list.append(M2)\n",
    "\n",
    "exclude_list.append('Sucrose_Light_biomass_M1')\n",
    "exclude_list.append('Sucrose_Light_biomass_M2')\n",
    "exclude_list.append('Sucrose_Dark_biomass_M1')\n",
    "exclude_list.append('Sucrose_Dark_biomass_M2')\n",
    "\n",
    "list_b = oldm1m2.Reactions('_biomass')\n",
    "\n",
    "# for i in list_b:\n",
    "#     check = sf.notInList(i, exclude_list)\n",
    "#     if check:\n",
    "#         m1m2.SetConstraint(i,0,0)"
   ]
  },
  {
   "cell_type": "code",
   "execution_count": null,
   "metadata": {
    "collapsed": false
   },
   "outputs": [],
   "source": [
    "for i in range(len(exclude_list)):\n",
    "    exclude_list[i] = 'R_'+exclude_list[i]\n"
   ]
  },
  {
   "cell_type": "code",
   "execution_count": null,
   "metadata": {
    "collapsed": false
   },
   "outputs": [],
   "source": [
    "\n",
    "for i in range(len(list_b)):\n",
    "    list_b[i] = 'R_'+list_b[i]"
   ]
  },
  {
   "cell_type": "code",
   "execution_count": null,
   "metadata": {
    "collapsed": false
   },
   "outputs": [],
   "source": [
    "print list_b"
   ]
  },
  {
   "cell_type": "code",
   "execution_count": null,
   "metadata": {
    "collapsed": false
   },
   "outputs": [],
   "source": [
    "m1m2 = NonlinearNetworkModel('pleasework', net)\n",
    "\n",
    "constraints = ['Photon_Dark_tx',\n",
    "                   'GLC_Dark_tx',\n",
    "                   'GLC_Light_tx',\n",
    "                   'Sucrose_Dark_tx',\n",
    "                   'Sucrose_Light_tx',\n",
    "                   'TAG_Dark_tx',\n",
    "                   'TAG_Light_tx',\n",
    "                   'Starch_Dark_tx',\n",
    "                   'Starch_Light_tx',\n",
    "                   'NADPH_Dehydrogenase_Dark_p',\n",
    "                   'NADPH_Dehydrogenase_Light_p',\n",
    "                   'NADPHoxx_Light_tx',\n",
    "                    'NADPHoxx_Dark_tx',\n",
    "                    'Plastoquinol_Oxidase_Dark_p',\n",
    "                    'Plastoquinol_Oxidase_Light_p',\n",
    "                    'NH4_Light_tx',\n",
    "                    'NH4_Dark_tx']\n",
    "\n",
    "for i in range(len(constraints)):\n",
    "    constraints[i] = 'R_'+constraints[i]\n",
    "    \n",
    "print constraints\n",
    "\n",
    "for tx in constraints:\n",
    "    reac = tx+'_M1'\n",
    "    m1m2.set_bound(reac,(0,0))\n",
    "\n",
    "for tx in constraints:\n",
    "    reac = tx+'_M2'\n",
    "    print reac\n",
    "    m1m2.set_bound(reac,(0,0))\n",
    "\n",
    "for i in list_b:\n",
    "    check = sf.notInList(i, exclude_list)\n",
    "    if check:\n",
    "        m1m2.set_bound(i,(0,0))\n",
    "\n",
    "    \n",
    "m1m2.add_constraint('carbox/oxy1', \"R_RIBULOSE_BISPHOSPHATE_CARBOXYLASE_RXN_Light_p_M1/R_RXN_961_Light_p_M1\",3)\n",
    "m1m2.add_constraint('carbox/oxy2', \"R_RIBULOSE_BISPHOSPHATE_CARBOXYLASE_RXN_Dark_p_M1/R_RXN_961_Dark_p_M1\",3)\n",
    "m1m2.add_constraint('NO3M1','R_NO3_Light_tx_M1/R_NO3_Dark_tx_M1',3/2)\n",
    "m1m2.add_constraint('NO3M2','R_NO3_Light_tx_M2/R_NO3_Dark_tx_M2',3/2)\n",
    "\n",
    "\n",
    "#Set ATP and NADPH rxn to be None to 0. \n",
    "ATP_constraints = ['R_NADPHoxc', 'R_NADPHoxm', 'R_NADPHoxp']\n",
    "\n",
    "m1m2.add_constraint('ATP_NADPh1','R_NADPHoxc_Light_tx_M1/R_ATPase_Light_tx_M1',1/9)\n",
    "m1m2.add_constraint('ATP_NADPh2','R_NADPHoxc_Light_tx_M2/R_ATPase_Light_tx_M2',1/9)\n",
    "m1m2.add_constraint('ATP_NADPh3','R_NADPHoxm_Light_tx_M1/R_ATPase_Light_tx_M1',1/9)\n",
    "m1m2.add_constraint('ATP_NADPh4','R_NADPHoxm_Light_tx_M2/R_ATPase_Light_tx_M2',1/9)\n",
    "m1m2.add_constraint('ATP_NADPh5','R_NADPHoxp_Light_tx_M1/R_ATPase_Light_tx_M1',1/9)\n",
    "m1m2.add_constraint('ATP_NADPh6','R_NADPHoxp_Light_tx_M1/R_ATPase_Light_tx_M1',1/9)\n",
    "m1m2.add_constraint('ATP_NADPh7','R_NADPHoxc_Dark_tx_M1/R_ATPase_Light_tx_M1',1/9)\n",
    "m1m2.add_constraint('ATP_NADPh8','R_NADPHoxc_Dark_tx_M2/R_ATPase_Light_tx_M2',1/9)\n",
    "m1m2.add_constraint('ATP_NADPh9','R_NADPHoxp_Dark_tx_M1/R_ATPase_Light_tx_M1',1/9)\n",
    "m1m2.add_constraint('ATP_NADPh10','R_NADPHoxp_Dark_tx_M2/R_ATPase_Light_tx_M2',1/9)\n",
    "m1m2.add_constraint('ATP_NADPh11','R_NADPHoxm_Dark_tx_M1/R_ATPase_Light_tx_M1',1/9)\n",
    "m1m2.add_constraint('ATP_NADPh12','R_NADPHoxm_Dark_tx_M2/R_ATPase_Light_tx_M2',1/9)\n",
    "\n",
    "\n",
    "\n",
    "# for reac in ATP_constraints:\n",
    "#     nadph_d = reac+'_Light_tx_M1'\n",
    "#     nadph_n = reac+'_Dark_tx_M1'\n",
    "    \n",
    "#     m1m2.add_constraint('ATP_NADPh',nadph_d+'/R_ATPase_Light_tx_M1',1/9)\n",
    "#     m1m2.add_constraint('ATP_NADPh',nadph_n+'/R_ATPase_Dark_tx_M1',1/9)\n",
    "\n",
    "    \n",
    "# for reac in ATP_constraints:\n",
    "#     nadph_d = reac+'_Light_tx_M2'\n",
    "#     nadph_n = reac+'_Dark_tx_M2'\n",
    "    \n",
    "#     m1m2.add_constraint('ATP_NADPh',nadph_d+'/R_ATPase_Light_tx_M2',1/9)\n",
    "#     m1m2.add_constraint('ATP_NADPh',nadph_n+'/R_ATPase_Dark_tx_M2',1/9)\n",
    "    \n",
    "\n",
    "# m1m2.add_constraint('sucrose1','R_Sucrose_Light_biomass_M1/R_Sucrose_Dark_biomass_M1',3)\n",
    "# m1m2.add_constraint('sucrose2','R_Sucrose_Light_biomass_M2/R_Sucrose_Dark_biomass_M2',3)  \n",
    "\n",
    "\n",
    "# # Setting ratios between sucrose and amino acids\n",
    "# for aa in lightdic.keys():\n",
    "#     m1m2.add_constraint('aa_sucrose','R_'+aa+'_M1/R_Sucrose_Light_biomass_M1', -lightdic[aa]/220)\n",
    "#     m1m2.add_constraint('aa_sucrose','R_'+aa+'_M2/R_Sucrose_Light_biomass_M2', -lightdic[aa]/220)\n",
    "\n",
    "# for aa in darkdic.keys():\n",
    "#     m1m2.add_constraint('aa_sucrose','R_'+aa+'_M1/R_Sucrose_Dark_biomass_M1', -darkdic[aa]/220)\n",
    "#     m1m2.add_constraint('aa_sucrose','R_'+aa+'_M2/R_Sucrose_Dark_biomass_M2', -darkdic[aa]/220)\n",
    "\n",
    "\n",
    "m1m2.set_bound('R_ATPase_Light_tx_M1',(-7.5,-7.5))\n",
    "m1m2.set_bound('R_ATPase_Dark_tx_M1',(-7.5,-7.5))\n",
    "m1m2.set_bound('R_ATPase_Light_tx_M2',(-7.5,-7.5))\n",
    "m1m2.set_bound('R_ATPase_Dark_tx_M2',(-7.5,-7.5))\n",
    "\n",
    "\n",
    "\n",
    "m1m2.set_objective('max_Sucrose_export','-1*R_Sucrose_Light_biomass_M2')\n",
    "m1m2.set_objective('max_Sucrose_export2','-1*R_Sucrose_Dark_biomass_M2')\n",
    "m1m2.set_bound('R_Photon_Light_tx_M1',(0,200))\n",
    "m1m2.set_bound('R_Photon_Light_tx_M2',(0,200))\n",
    "model.set_bound('R_Sucrose_Light_biomass_M1',(0,400))\n",
    "model.set_bound('R_Sucrose_Light_biomass_M2',(0,400))\n",
    "\n",
    "\n",
    "m1m2.compile()\n",
    "print 'done'\n",
    "m1m2.solve()\n",
    "for i in reaction_ids:\n",
    "    print i, m1m2.soln[i]\n",
    "\n"
   ]
  },
  {
   "cell_type": "code",
   "execution_count": 17,
   "metadata": {
    "collapsed": false
   },
   "outputs": [],
   "source": [
    "from fluxtools.utilities import cobra\n",
    "\n",
    "m = si.fromSBMLFile('m_conversion_test3.xml')\n",
    "reactions = m.reactions.copy()\n",
    "reaction_ids = reactions.keys()\n",
    "# reaction_ids\n",
    "model = nlcm.NonlinearNetworkModel('bla', m)\n",
    "# nlcm.default_ipopt_options = {\n",
    "#     'print_level': 5,\n",
    "#     'tol': 1e-5,\n",
    "#     'linear_solver': 'ma97',\n",
    "#     'ma97_print_level': -1,\n",
    "#     'max_iter': 500\n",
    "# }"
   ]
  },
  {
   "cell_type": "code",
   "execution_count": 18,
   "metadata": {
    "collapsed": false
   },
   "outputs": [],
   "source": [
    "boundaries = cobra.get_flux_bounds(m)\n",
    "\n",
    "# print boundaries['R_ATPase_Light_tx']\n",
    "for i in boundaries:\n",
    "#     print i\n",
    "    model.set_bound(i,boundaries[i])"
   ]
  },
  {
   "cell_type": "code",
   "execution_count": 23,
   "metadata": {
    "collapsed": false,
    "scrolled": true
   },
   "outputs": [
    {
     "ename": "OptimizationFailure",
     "evalue": "IPOPT exited with status -1",
     "output_type": "error",
     "traceback": [
      "\u001b[0;31m---------------------------------------------------------------------------\u001b[0m",
      "\u001b[0;31mOptimizationFailure\u001b[0m                       Traceback (most recent call last)",
      "\u001b[0;32m<ipython-input-23-0c72ec23760e>\u001b[0m in \u001b[0;36m<module>\u001b[0;34m()\u001b[0m\n\u001b[1;32m    115\u001b[0m \u001b[0;34m\u001b[0m\u001b[0m\n\u001b[1;32m    116\u001b[0m \u001b[0mmodel\u001b[0m\u001b[0;34m.\u001b[0m\u001b[0mcompile\u001b[0m\u001b[0;34m(\u001b[0m\u001b[0;34m)\u001b[0m\u001b[0;34m\u001b[0m\u001b[0m\n\u001b[0;32m--> 117\u001b[0;31m \u001b[0mmodel\u001b[0m\u001b[0;34m.\u001b[0m\u001b[0msolve\u001b[0m\u001b[0;34m(\u001b[0m\u001b[0;34m)\u001b[0m\u001b[0;34m\u001b[0m\u001b[0m\n\u001b[0m\u001b[1;32m    118\u001b[0m \u001b[0;32mprint\u001b[0m \u001b[0;34m'photon:'\u001b[0m\u001b[0;34m,\u001b[0m \u001b[0mmodel\u001b[0m\u001b[0;34m.\u001b[0m\u001b[0msoln\u001b[0m\u001b[0;34m[\u001b[0m\u001b[0;34m'R_Photon_Light_tx'\u001b[0m\u001b[0;34m]\u001b[0m\u001b[0;34m\u001b[0m\u001b[0m\n\u001b[1;32m    119\u001b[0m \u001b[0;32mprint\u001b[0m \u001b[0;34m'PSII:'\u001b[0m\u001b[0;34m,\u001b[0m \u001b[0mmodel\u001b[0m\u001b[0;34m.\u001b[0m\u001b[0msoln\u001b[0m\u001b[0;34m[\u001b[0m\u001b[0;34m'R_PSII_RXN_Light_p'\u001b[0m\u001b[0;34m]\u001b[0m\u001b[0;34m\u001b[0m\u001b[0m\n",
      "\u001b[0;32m/Users/yukai/anaconda2/lib/python2.7/site-packages/fluxtools/nlcm.pyc\u001b[0m in \u001b[0;36msolve\u001b[0;34m(self, x0, options)\u001b[0m\n\u001b[1;32m    898\u001b[0m \u001b[0;34m\u001b[0m\u001b[0m\n\u001b[1;32m    899\u001b[0m         \u001b[0;32mif\u001b[0m \u001b[0mself\u001b[0m\u001b[0;34m.\u001b[0m\u001b[0mstatus\u001b[0m \u001b[0;32mnot\u001b[0m \u001b[0;32min\u001b[0m \u001b[0;34m(\u001b[0m\u001b[0;36m0\u001b[0m\u001b[0;34m,\u001b[0m \u001b[0;36m1\u001b[0m\u001b[0;34m)\u001b[0m\u001b[0;34m:\u001b[0m\u001b[0;34m\u001b[0m\u001b[0m\n\u001b[0;32m--> 900\u001b[0;31m             \u001b[0;32mraise\u001b[0m \u001b[0mOptimizationFailure\u001b[0m\u001b[0;34m(\u001b[0m\u001b[0;34m'IPOPT exited with status %d'\u001b[0m \u001b[0;34m%\u001b[0m \u001b[0mself\u001b[0m\u001b[0;34m.\u001b[0m\u001b[0mstatus\u001b[0m\u001b[0;34m)\u001b[0m\u001b[0;34m\u001b[0m\u001b[0m\n\u001b[0m\u001b[1;32m    901\u001b[0m \u001b[0;34m\u001b[0m\u001b[0m\n\u001b[1;32m    902\u001b[0m         \u001b[0;32mreturn\u001b[0m \u001b[0mself\u001b[0m\u001b[0;34m.\u001b[0m\u001b[0mx\u001b[0m\u001b[0;34m.\u001b[0m\u001b[0mcopy\u001b[0m\u001b[0;34m(\u001b[0m\u001b[0;34m)\u001b[0m\u001b[0;34m\u001b[0m\u001b[0m\n",
      "\u001b[0;31mOptimizationFailure\u001b[0m: IPOPT exited with status -1"
     ]
    }
   ],
   "source": [
    "constraints = ['Photon_Dark_tx',\n",
    "                   'GLC_Dark_tx',\n",
    "                   'GLC_Light_tx',\n",
    "                   'Sucrose_Dark_tx',\n",
    "                   'Sucrose_Light_tx',\n",
    "                   'TAG_Dark_tx',\n",
    "                   'TAG_Light_tx',\n",
    "                   'Starch_Dark_tx',\n",
    "                   'Starch_Light_tx',\n",
    "                   'NADPH_Dehydrogenase_Dark_p',\n",
    "                   'NADPH_Dehydrogenase_Light_p',\n",
    "                   'NADPHoxx_Light_tx',\n",
    "                    'NADPHoxx_Dark_tx',\n",
    "                    'Plastoquinol_Oxidase_Dark_p',\n",
    "                    'Plastoquinol_Oxidase_Light_p',\n",
    "                    'NH4_Light_tx',\n",
    "                    'NH4_Dark_tx']\n",
    "\n",
    "for tx in constraints:\n",
    "    reac = 'R_'+tx\n",
    "    model.set_bound(reac,(0,0))\n",
    "\n",
    "\n",
    "#Setting selected biomasses to 0\n",
    "exclude_list = []\n",
    "list_b = []\n",
    "lightdic = {'Alanine_Light_biomass':-9.7,'Arginine_Light_biomass':-1.6,'Asparagine_Light_biomass':-10.1,'Aspartate_Light_biomass':-9.5,\n",
    "'Glutamate_Light_biomass':-11.4,'Glutamine_Light_biomass':-33.2,'Glycine_Light_biomass':-0.7,'Serine_Light_biomass':-7.7,\n",
    "'Tyrosine_Light_biomass':-0.6,'Histidine_Light_biomass':-0.4,'Isoleucine_Light_biomass':-1.2,'Leucine_Light_biomass':-1.2,\n",
    "'Lysine_Light_biomass':-1.8,'Methionine_Light_biomass':-0.7,'Phenylalanine_Light_biomass':-1.1,'Threonine_Light_biomass':-5.6,\n",
    "'Tryptophan_Light_biomass':-0.9,'Valine_Light_biomass':-2.4}\n",
    "\n",
    "darkdic = {'Alanine_Dark_biomass':-9.7,'Arginine_Dark_biomass':-1.6,'Asparagine_Dark_biomass':-10.1,'Aspartate_Dark_biomass':-9.5,\n",
    "'Glutamate_Dark_biomass':-11.4,'Glutamine_Dark_biomass':-33.2,'Glycine_Dark_biomass':-0.7,'Serine_Dark_biomass':-7.7,\n",
    "'Tyrosine_Dark_biomass':-0.6,'Histidine_Dark_biomass':-0.4,'Isoleucine_Dark_biomass':-1.2,'Leucine_Dark_biomass':-1.2,\n",
    "'Lysine_Dark_biomass':-1.8,'Methionine_Dark_biomass':-0.7,'Phenylalanine_Dark_biomass':-1.1,'Threonine_Dark_biomass':-5.6,\n",
    "'Tryptophan_Dark_biomass':-0.9,'Valine_Dark_biomass':-2.4}\n",
    "\n",
    "\n",
    "for i in lightdic.keys():\n",
    "    exclude_list.append('R_'+i)\n",
    "\n",
    "for i in darkdic.keys():\n",
    "    exclude_list.append('R_'+i)\n",
    "\n",
    "exclude_list.append('R_Sucrose_Light_biomass')\n",
    "exclude_list.append('R_Sucrose_Dark_biomass')\n",
    "\n",
    "list_b = oldm.Reactions('_biomass')\n",
    "\n",
    "\n",
    "for i in range(len(exclude_list)):\n",
    "    exclude_list[i] = exclude_list[i]\n",
    "\n",
    "for i in range(len(list_b)):\n",
    "    list_b[i] = list_b[i]\n",
    "\n",
    "# print exclude_list\n",
    "\n",
    "for i in list_b:\n",
    "    check = sf.notInList(i, exclude_list)\n",
    "    if check:\n",
    "        model.set_bound(i,(0,0))\n",
    "\n",
    "# #Adding NO3 Constraints\n",
    "\n",
    "\n",
    "\n",
    "\n",
    "# # #Set ATP and NADPH rxn to be None to 0. \n",
    "# # ATP_constraints = ['R_NADPHoxc', 'R_NADPHoxm', 'R_NADPHoxp']\n",
    "\n",
    "model.set_bound('R_ATPase_Light_tx',(-7.5,-7.5))\n",
    "model.set_bound('R_ATPase_Dark_tx',(-7.5,-7.5))\n",
    "\n",
    "# model.add_constraint('ATP_NADPh1','R_ATPase_Light_tx/R_NADPHoxc_Light_tx',9)\n",
    "# model.add_constraint('ATP_NADPh3','R_ATPase_Light_tx/R_NADPHoxm_Light_tx',9)\n",
    "# model.add_constraint('ATP_NADPh6','R_ATPase_Light_tx/R_NADPHoxp_Light_tx',9)\n",
    "# model.add_constraint('ATP_NADPh7','R_ATPase_Dark_tx/R_NADPHoxc_Dark_tx',9)\n",
    "# model.add_constraint('ATP_NADPh9','R_ATPase_Dark_tx/R_NADPHoxm_Dark_tx',9)\n",
    "# model.add_constraint('ATP_NADPh11','R_ATPase_Dark_tx/R_NADPHoxp_Dark_tx',9)\n",
    "\n",
    "# model.add_constraint('ATP_NADPh1','R_NADPHoxc_Light_tx/R_ATPase_Light_tx',1/9)\n",
    "# model.add_constraint('ATP_NADPh3','R_NADPHoxm_Light_tx/R_ATPase_Light_tx',1/9)\n",
    "# model.add_constraint('ATP_NADPh6','R_NADPHoxp_Light_tx/R_ATPase_Light_tx',1/9)\n",
    "# model.add_constraint('ATP_NADPh7','R_NADPHoxc_Dark_tx/R_ATPase_Dark_tx',1/9)\n",
    "# model.add_constraint('ATP_NADPh9','R_ATPase_Dark_tx/R_NADPHoxp_Dark_tx',1/9)\n",
    "# model.add_constraint('ATP_NADPh11','R_ATPase_Dark_tx/R_NADPHoxm_Dark_tx',1/9)\n",
    "\n",
    "i = 0\n",
    "for aa in lightdic.keys():\n",
    "    x = 220/-lightdic[aa]\n",
    "    model.add_constraint('aa_constraint'+str(i), 'R_Sucrose_Light_biomass/R_'+aa, x)\n",
    "    i+=1\n",
    "\n",
    "i = 0\n",
    "for aa in darkdic.keys():\n",
    "#     print 'R_'+aa\n",
    "    x = 220/-darkdic[aa]\n",
    "    model.add_constraint('aa_constraint'+str(i), 'R_Sucrose_Dark_biomass/R_'+aa, x)\n",
    "    i+=1\n",
    "\n",
    "model.add_constraint('sucrose1','R_Sucrose_Light_biomass/R_Sucrose_Dark_biomass',3)\n",
    "model.add_constraint('NO3','R_NO3_Light_tx/R_NO3_Dark_tx',1.5)\n",
    "# model.remove_constraint('sucrose1')\n",
    "model.set_objective('max_sucrose_exportL','-1.0*R_Sucrose_Light_biomass')\n",
    "model.add_constraint('Carbox_oxyge', 'R_RIBULOSE_BISPHOSPHATE_CARBOXYLASE_RXN_Light_p/R_RXN_961_Light_p',3.)\n",
    "model.set_bound('R_Photon_Light_tx',(0,1000))\n",
    "model.set_bound('R_Photon_Dark_tx',(0,0))\n",
    "model.set_bound('R_Sucrose_Light_biomass',(-0.5,1000))\n",
    "model.set_bound('R_PSII_RXN_Light_p',(0,1000))\n",
    "# model.set_bound('R_Mitochondrial_ATP_Synthase_Light_m',(0,0))\n",
    "\n",
    "\n",
    "    \n",
    "model.compile()\n",
    "model.solve()\n",
    "print 'photon:', model.soln['R_Photon_Light_tx']\n",
    "print 'PSII:', model.soln['R_PSII_RXN_Light_p']\n",
    "print 'CO2_tx:', model.soln['R_CO2_Dark_tx']\n",
    "print 'O2_tx:', model.soln['R_O2_Light_tx']\n",
    "print 'sucrose Light out:',model.soln['R_Sucrose_Light_biomass']\n",
    "print 'sucrose Dark out:',model.soln['R_Sucrose_Dark_biomass']\n",
    "print 'Alanine Light out:',model.soln['R_Alanine_Light_biomass']\n",
    "print 'Alanine Dark out:', model.soln['R_Alanine_Dark_biomass']\n",
    "print 'carbox:',model.soln['R_RIBULOSE_BISPHOSPHATE_CARBOXYLASE_RXN_Light_p']\n",
    "print 'oxyg:',model.soln['R_RXN_961_Light_p']\n",
    "print 'NO3_light:',model.soln['R_NO3_Light_tx']\n",
    "print 'NO3_dark:',model.soln['R_NO3_Dark_tx']\n",
    "print 'GPH-rxn:',model.soln['R_GPH_RXN_Light_p']\n",
    "print 'ATPase:', model.soln['R_ATPase_Light_tx']\n",
    "print 'GLC:', model.soln['R_GLC_Light_tx']\n",
    "print 'PEP:', model.soln['R_PEPCARBOX_RXN_Light_c']\n",
    "# for i in reaction_ids:\n",
    "#     print i, model.soln[i]\n",
    "\n",
    "\n",
    "\n",
    "print '\\n'\n",
    "model.soln\n"
   ]
  },
  {
   "cell_type": "code",
   "execution_count": 20,
   "metadata": {
    "collapsed": false
   },
   "outputs": [
    {
     "data": {
      "text/plain": [
       "(0, 0)"
      ]
     },
     "execution_count": 20,
     "metadata": {},
     "output_type": "execute_result"
    }
   ],
   "source": [
    "model.get_bounds('R_Sucrose_Light_tx')"
   ]
  },
  {
   "cell_type": "code",
   "execution_count": null,
   "metadata": {
    "collapsed": true
   },
   "outputs": [],
   "source": [
    "#IT WORKS!\n",
    "model.set_objective('sucrose_export','1.0*R_Sucrose_Light_biomass')\n",
    "model.add_constraint('CO2_leakiness_constraint', 'R_CO2_Light_tx/R_O2_Light_tx',1.)\n",
    "model.add_constraint('CO2_leakiness_constraint', 'R_RIBULOSE_BISPHOSPHATE_CARBOXYLASE_RXN_Light_p/R_RXN_961_Light_p',3)\n",
    "model.set_bound('R_Photon_Light',(0,200))\n",
    "model.set_bound('R_Sucrose_Light_biomass',(-10,0))\n",
    "model.set_bound('R_Photon_Dark_tx',(0,0))\n",
    "\n",
    "\n",
    "model.compile()\n",
    "model.solve()\n",
    "model.soln\n",
    "# for i in reaction_ids:\n",
    "#     print i, model.soln[i]"
   ]
  },
  {
   "cell_type": "code",
   "execution_count": null,
   "metadata": {
    "collapsed": false,
    "scrolled": false
   },
   "outputs": [],
   "source": [
    "simple_model, details = simplification.simplify(model)\n",
    "simple_model.compile()\n",
    "simple_model.solve()\n",
    "# print simple_model.soln['R_Photon_Light_tx']\n",
    "print simple_model.soln['R_Sucrose_Light_biomass']\n",
    "print simple_model.soln['R_RIBULOSE_BISPHOSPHATE_CARBOXYLASE_RXN_Light_p']\n",
    "print simple_model.soln['R_RXN_961_Light_p']\n"
   ]
  },
  {
   "cell_type": "code",
   "execution_count": null,
   "metadata": {
    "collapsed": false,
    "scrolled": true
   },
   "outputs": [],
   "source": [
    "details\n"
   ]
  },
  {
   "cell_type": "code",
   "execution_count": null,
   "metadata": {
    "collapsed": true
   },
   "outputs": [],
   "source": [
    "simple_model.soln['R_Photon_Light_tx']"
   ]
  }
 ],
 "metadata": {
  "anaconda-cloud": {},
  "kernelspec": {
   "display_name": "Python [Root]",
   "language": "python",
   "name": "Python [Root]"
  },
  "language_info": {
   "codemirror_mode": {
    "name": "ipython",
    "version": 2
   },
   "file_extension": ".py",
   "mimetype": "text/x-python",
   "name": "python",
   "nbconvert_exporter": "python",
   "pygments_lexer": "ipython2",
   "version": "2.7.12"
  }
 },
 "nbformat": 4,
 "nbformat_minor": 0
}
